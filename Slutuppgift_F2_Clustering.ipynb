{
  "nbformat": 4,
  "nbformat_minor": 0,
  "metadata": {
    "colab": {
      "name": "Slutuppgift_F2_Clustering.ipynb",
      "provenance": [],
      "include_colab_link": true
    },
    "kernelspec": {
      "display_name": "Python 3",
      "language": "python",
      "name": "python3"
    },
    "language_info": {
      "codemirror_mode": {
        "name": "ipython",
        "version": 3
      },
      "file_extension": ".py",
      "mimetype": "text/x-python",
      "name": "python",
      "nbconvert_exporter": "python",
      "pygments_lexer": "ipython3",
      "version": "3.7.4"
    }
  },
  "cells": [
    {
      "cell_type": "markdown",
      "metadata": {
        "id": "view-in-github",
        "colab_type": "text"
      },
      "source": [
        "<a href=\"https://colab.research.google.com/github/SirAlekz/Laboration_1/blob/master/Slutuppgift_F2_Clustering.ipynb\" target=\"_parent\"><img src=\"https://colab.research.google.com/assets/colab-badge.svg\" alt=\"Open In Colab\"/></a>"
      ]
    },
    {
      "cell_type": "markdown",
      "metadata": {
        "id": "j45UY5EkKVmj"
      },
      "source": [
        "# Inlämning Data Analytics slutuppgift 1: Utforska, analysera och prediktera på trafikdata"
      ]
    },
    {
      "cell_type": "markdown",
      "metadata": {
        "id": "i3KuZ98fKVmq"
      },
      "source": [
        "## Bakgrund\n",
        "\n",
        "Du har fått jobb som data analytiker på ett startup bolag som vill börja sälja en tjänst till smarta städer. Affärsidén går ut på att förenkla polisens arbete genom att förutspå trafikhändelser. \n",
        "\n",
        "Som första steg i ditt arbete har du lokaliserat ett dataset med historik om incidenter i trafiken. Med detta dataset avser du testköra ett antal maskininlärningsmodeller för att utöka din kunskap om domänen och hitta lämpliga modeller som företaget kan använda. \n",
        "\n",
        "Datasetet finns också på det githubrepositorie som skapats för er för slutuppgift 1.\n",
        "\n",
        "Det är valfritt om ni vill använda hela eller delar (sample) av detta dataset, **alla val ni gör behöver dock explicit beskrivas och motiveras**. Det kan vara klokt att enbart arbeta med ett sample eftersom detta dataset innehåller flera miljoner rader.\n",
        "\n",
        "För ytterligare instruktioner, se presentationen av slutuppgift 1&2 som finns på Studium."
      ]
    },
    {
      "cell_type": "markdown",
      "metadata": {
        "id": "O9IjS0nvKVmv"
      },
      "source": [
        "## Problembeskrivning\n",
        "\n",
        "Du ska använda ditt dataset för att identifiera ett antal (minst 2) lämpliga frågor som är möjliga att genomföra på den data du har tillgång till.\n",
        "\n",
        "De två frågorna ska vara av olika karaktär, exempelvis en prediktiv fråga som är av regressionskaraktär och en annan som är av klassificeringskaraktär, eller en klassificeringsfråga och en assoiationsanalysfråga, eller en regression och en klusterfråga. **Minst en fråga ska vara prediktiv, alltså övervakad inlärning (klassificering/regression)** \n",
        "\n",
        "Du ska testa minst 2 modeller för varje fråga, vilket innebär att du behöver testa minst 4 modeller totalt. \n",
        "\n",
        "Du vill använda ditt dataset för att identifiera vilken data som behövs för att kunna utveckla tjänsten samt för att utvärdera vilken kvalitet som krävs och hur pre-processing bör genomföras. I ditt arbete vill du också identidiera potentiella problem med dataset och analyser utifrån etiska aspekter. Denna kunskap ska sedan teoretiseras i uppgift 2.\n",
        "\n",
        "Använd kunskaper du inhämtat tidigare under kursen, det är helt ok att använda kod från exempelvis tidigare laborationer och övningar som finns på kursens GitHub, eller hitta lämpliga algoritmexempel från nätet. "
      ]
    },
    {
      "cell_type": "markdown",
      "metadata": {
        "id": "jDHIUkdvdPxp"
      },
      "source": [
        "1. **ID** - Unique identifier of the accident. \n",
        "2. **Source** - Indicates source of the accident report\n",
        "3. **TMC** - A traffic accident may have a Traffic Message Changel code which provies more detailed description of the event. \n",
        "4. **Severity** - Shows the severity of the accident, a number between 1 and 4, where 1 indicates the least impact on traffic and 4 indicates a significant impact on traffic (long delay)\n",
        "5. **Start_Time** - Start time of accident in local time zone. \n",
        "6. **End_Time** - End time of accident in local time zone. \n",
        "7. **Start_Lat** - Shows latitude in GPS coordinate of the start point.\n",
        "8. **Start_Lng** - Shows longitude in GPS coordinate of the start point. \n",
        "9. **End_Lat** - Show latitude in GPS coordinate of end point. \n",
        "10. **End_Lng** - Shows longitude in GPS coordinate of end point. \n",
        "11. **Distance** - The length of the road extent affected by the accident. \n",
        "12. **Description** - Shows natural language description of the accident. \n",
        "13. **Number** - Shows the street number in adress field. \n",
        "14. **Street** - Shows the street name in adress field.\n",
        "15. **Side** - Shows the relative side of the street in adress field.\n",
        "16. **City** - Shows the city in adress field.\n",
        "17. **County** - Shows the county in address field.\n",
        "18. **State** - Shows the state in address field.\n",
        "19. **Zipcode** - Shows the zipcode in address field.\n",
        "20. **Country** - Shows the country in adress field.\n",
        "21. **Timezone** - Shows the timezone based on the location of the accident.\n",
        "22. Airport_code - Denotes an airport-based weather station which is the closest one to location of the accident.\n",
        "23. Weather_Timestamp - Shows the time-stamp of weather observation record (in local time).\n",
        "24. Temperature(F) - Temperature in Fahrenheit. \n",
        "25. Wind_chill(F) - Shows the wind chill (Fahrenheit). \n",
        "26. Humidity - Shows the humidity (%)\n",
        "27. Pressure - Shows the air pressure (in inches)\n",
        "28. Visibility - Shows visibility (in miles)\n",
        "29. Wind_Direction - Shows wind direction. \n",
        "30. Wind_Speed - Shows wind speed (in miles per hour)\n",
        "31. Precipitation - Shows precipitation amount in inches, if there is any. \n",
        "32. Weather_Condition - Shows the weather condition (rain, snow, thunderstorm, fog)\n",
        "33. Amenity - A POI annotation which indicates presence of amenity in a nearby location. \n",
        "34. Bump - A POI annotation which indicates presence of speed bump or hump in a nearby location. \n",
        "35. Crossing - A POI annotation which indicates presence of crossing in a nearby location. \n",
        "36. Give_Way - A POI annotation which indicates presence of give way in a nearby location. \n",
        "37. Junction - A POI annotation which indicates presence of junction in a nearby location. \n",
        "38. No_Exit - A POI annotation which indicates presence of no exit in a nearby location. \n",
        "39. Railway - A POI annotation which indicates presence of no exit in a nearby location. \n",
        "40. Roundabout - A POI annotion which indicates presence of a roundabout in a nearby location. \n",
        "41. Station - A POI annotation which indicates presence of a station in a nearby location. \n",
        "42. Stop - A POI annotation which indicates presence of a stop in a nearby location. \n",
        "43. Traffic_Calming - A POI annotation which indicates presence of traffic camling in a nearby location. \n",
        "44. Traffic_Signal - A POI annotation which indicates presence of traffic signal in a nearby location.\n",
        "45. Turning_loop - A POI annotation which indicates presence of turning loop in a nearby location.\n",
        "46. Sunrise_Sunset - Shows the period of day (day or night) based on civil twilight. \n",
        "47. Civil_Twilight - Shows the period of day (day or night) based on civil twiligt. \n",
        "48. Nautical_Twilight - Shows the period of day (day or night) based on nautical twilight. \n",
        "49. Astronomical_Twilight - Shows the period of day (day or night) based on astronomical twilight. \n"
      ]
    },
    {
      "cell_type": "markdown",
      "metadata": {
        "id": "6pEtk6tyQzvw"
      },
      "source": [
        "# **FRÅGESTÄLLNING:**"
      ]
    },
    {
      "cell_type": "markdown",
      "metadata": {
        "id": "7V87rprHQ5_5"
      },
      "source": [
        "\n",
        "### **1. Predict the severity based on weather information**\n",
        "### 2. Cluster weather information and see if we can find any patterns \n",
        "\n",
        "This notebook will only treat question 1. \n",
        "The second question is treated in a seperate notebook. \n",
        "\n",
        "\n",
        " "
      ]
    },
    {
      "cell_type": "markdown",
      "metadata": {
        "id": "-DqmrKO-KVm0"
      },
      "source": [
        "## Rättning\n",
        "\n",
        "Uppgiften ger totalt 100 poäng, för godkänt behöver du minst 80 poäng. Hur många poäng varje deluppgift ger syns i varje del. "
      ]
    },
    {
      "cell_type": "code",
      "metadata": {
        "id": "qa4PLAMXKVm3",
        "outputId": "9bf4ff65-c2e2-4684-e9e6-afd42ea55baa",
        "colab": {
          "base_uri": "https://localhost:8080/",
          "height": 105
        }
      },
      "source": [
        "# De importer du behöver göra ska finnas här\n",
        "import pandas as pd\n",
        "pd.options.mode.chained_assignment = None  # default='warn'\n",
        "import numpy as np\n",
        "import seaborn as sns\n",
        "import matplotlib.pyplot as plt\n",
        "\n",
        "#\n",
        "\n",
        "from sklearn.preprocessing import StandardScaler\n",
        "\n",
        "#Sklearn\n",
        "from sklearn.metrics import accuracy_score\n",
        "from sklearn.metrics import confusion_matrix\n",
        "from sklearn.ensemble import RandomForestClassifier\n",
        "from sklearn.neighbors import KNeighborsClassifier\n",
        "from sklearn.tree import DecisionTreeClassifier\n",
        "from sklearn.metrics import classification_report\n",
        "from sklearn.metrics import roc_curve, auc\n",
        "\n",
        "from imblearn.over_sampling import SMOTE\n",
        "\n"
      ],
      "execution_count": 1,
      "outputs": [
        {
          "output_type": "stream",
          "text": [
            "/usr/local/lib/python3.6/dist-packages/sklearn/externals/six.py:31: FutureWarning: The module is deprecated in version 0.21 and will be removed in version 0.23 since we've dropped support for Python 2.7. Please rely on the official version of six (https://pypi.org/project/six/).\n",
            "  \"(https://pypi.org/project/six/).\", FutureWarning)\n",
            "/usr/local/lib/python3.6/dist-packages/sklearn/utils/deprecation.py:144: FutureWarning: The sklearn.neighbors.base module is  deprecated in version 0.22 and will be removed in version 0.24. The corresponding classes / functions should instead be imported from sklearn.neighbors. Anything that cannot be imported from sklearn.neighbors is now part of the private API.\n",
            "  warnings.warn(message, FutureWarning)\n"
          ],
          "name": "stderr"
        }
      ]
    },
    {
      "cell_type": "code",
      "metadata": {
        "id": "P6t0bUkgkmeo"
      },
      "source": [
        "%matplotlib inline "
      ],
      "execution_count": 2,
      "outputs": []
    },
    {
      "cell_type": "code",
      "metadata": {
        "id": "NEdyO2UiOqiv",
        "outputId": "22cc01d4-62ba-44e0-d629-6d880438fea6",
        "colab": {
          "base_uri": "https://localhost:8080/",
          "height": 34
        }
      },
      "source": [
        "from google.colab import drive\n",
        "drive.mount('/content/drive')"
      ],
      "execution_count": 3,
      "outputs": [
        {
          "output_type": "stream",
          "text": [
            "Mounted at /content/drive\n"
          ],
          "name": "stdout"
        }
      ]
    },
    {
      "cell_type": "markdown",
      "metadata": {
        "id": "9buiimU5KVnT"
      },
      "source": [
        "## Data collection\n",
        "\n",
        "Ladda in ditt dataset (10 poäng)."
      ]
    },
    {
      "cell_type": "code",
      "metadata": {
        "id": "9sI1g_0TKVnW"
      },
      "source": [
        "#Read in the dataset. \n",
        "dataset = pd.read_csv('/content/drive/My Drive/DataAnalytics/Slutuppgift/US_Accidents_June20.csv')\n",
        "\n",
        "\n",
        "#Filter the data based on California. \n",
        "dataset_ca = dataset[dataset['State'] == 'CA']\n",
        "\n",
        "\n",
        "#Random sample 100_000 rows from the dataset. \n",
        "df = dataset_ca.sample(100_000, random_state=42)"
      ],
      "execution_count": 4,
      "outputs": []
    },
    {
      "cell_type": "code",
      "metadata": {
        "id": "wlJQ3hZxXFhR",
        "outputId": "a66b04ea-106b-479b-cd26-c5e45dc52676",
        "colab": {
          "base_uri": "https://localhost:8080/",
          "height": 34
        }
      },
      "source": [
        "#Explore the shape of the dataset. \n",
        "df.shape"
      ],
      "execution_count": 5,
      "outputs": [
        {
          "output_type": "execute_result",
          "data": {
            "text/plain": [
              "(100000, 49)"
            ]
          },
          "metadata": {
            "tags": []
          },
          "execution_count": 5
        }
      ]
    },
    {
      "cell_type": "code",
      "metadata": {
        "id": "D6sKmgViLvSG",
        "outputId": "bcc91a8c-1eb1-4b03-bb01-e4e65a5f306b",
        "colab": {
          "base_uri": "https://localhost:8080/",
          "height": 428
        }
      },
      "source": [
        "#Explore the data\n",
        "df.head()"
      ],
      "execution_count": 6,
      "outputs": [
        {
          "output_type": "execute_result",
          "data": {
            "text/html": [
              "<div>\n",
              "<style scoped>\n",
              "    .dataframe tbody tr th:only-of-type {\n",
              "        vertical-align: middle;\n",
              "    }\n",
              "\n",
              "    .dataframe tbody tr th {\n",
              "        vertical-align: top;\n",
              "    }\n",
              "\n",
              "    .dataframe thead th {\n",
              "        text-align: right;\n",
              "    }\n",
              "</style>\n",
              "<table border=\"1\" class=\"dataframe\">\n",
              "  <thead>\n",
              "    <tr style=\"text-align: right;\">\n",
              "      <th></th>\n",
              "      <th>ID</th>\n",
              "      <th>Source</th>\n",
              "      <th>TMC</th>\n",
              "      <th>Severity</th>\n",
              "      <th>Start_Time</th>\n",
              "      <th>End_Time</th>\n",
              "      <th>Start_Lat</th>\n",
              "      <th>Start_Lng</th>\n",
              "      <th>End_Lat</th>\n",
              "      <th>End_Lng</th>\n",
              "      <th>Distance(mi)</th>\n",
              "      <th>Description</th>\n",
              "      <th>Number</th>\n",
              "      <th>Street</th>\n",
              "      <th>Side</th>\n",
              "      <th>City</th>\n",
              "      <th>County</th>\n",
              "      <th>State</th>\n",
              "      <th>Zipcode</th>\n",
              "      <th>Country</th>\n",
              "      <th>Timezone</th>\n",
              "      <th>Airport_Code</th>\n",
              "      <th>Weather_Timestamp</th>\n",
              "      <th>Temperature(F)</th>\n",
              "      <th>Wind_Chill(F)</th>\n",
              "      <th>Humidity(%)</th>\n",
              "      <th>Pressure(in)</th>\n",
              "      <th>Visibility(mi)</th>\n",
              "      <th>Wind_Direction</th>\n",
              "      <th>Wind_Speed(mph)</th>\n",
              "      <th>Precipitation(in)</th>\n",
              "      <th>Weather_Condition</th>\n",
              "      <th>Amenity</th>\n",
              "      <th>Bump</th>\n",
              "      <th>Crossing</th>\n",
              "      <th>Give_Way</th>\n",
              "      <th>Junction</th>\n",
              "      <th>No_Exit</th>\n",
              "      <th>Railway</th>\n",
              "      <th>Roundabout</th>\n",
              "      <th>Station</th>\n",
              "      <th>Stop</th>\n",
              "      <th>Traffic_Calming</th>\n",
              "      <th>Traffic_Signal</th>\n",
              "      <th>Turning_Loop</th>\n",
              "      <th>Sunrise_Sunset</th>\n",
              "      <th>Civil_Twilight</th>\n",
              "      <th>Nautical_Twilight</th>\n",
              "      <th>Astronomical_Twilight</th>\n",
              "    </tr>\n",
              "  </thead>\n",
              "  <tbody>\n",
              "    <tr>\n",
              "      <th>3200930</th>\n",
              "      <td>A-3201090</td>\n",
              "      <td>Bing</td>\n",
              "      <td>NaN</td>\n",
              "      <td>2</td>\n",
              "      <td>2019-01-15 16:35:14</td>\n",
              "      <td>2019-01-15 17:05:14</td>\n",
              "      <td>34.171280</td>\n",
              "      <td>-118.515090</td>\n",
              "      <td>34.171280</td>\n",
              "      <td>-118.522700</td>\n",
              "      <td>0.435</td>\n",
              "      <td>At White Oak Ave/Exit 22 - Accident.</td>\n",
              "      <td>NaN</td>\n",
              "      <td>US-101 N</td>\n",
              "      <td>R</td>\n",
              "      <td>Encino</td>\n",
              "      <td>Los Angeles</td>\n",
              "      <td>CA</td>\n",
              "      <td>91316</td>\n",
              "      <td>US</td>\n",
              "      <td>US/Pacific</td>\n",
              "      <td>KVNY</td>\n",
              "      <td>2019-01-15 16:31:00</td>\n",
              "      <td>53.1</td>\n",
              "      <td>NaN</td>\n",
              "      <td>80.0</td>\n",
              "      <td>29.98</td>\n",
              "      <td>10.0</td>\n",
              "      <td>ESE</td>\n",
              "      <td>11.5</td>\n",
              "      <td>0.01</td>\n",
              "      <td>Light Rain</td>\n",
              "      <td>False</td>\n",
              "      <td>False</td>\n",
              "      <td>False</td>\n",
              "      <td>False</td>\n",
              "      <td>True</td>\n",
              "      <td>False</td>\n",
              "      <td>False</td>\n",
              "      <td>False</td>\n",
              "      <td>False</td>\n",
              "      <td>False</td>\n",
              "      <td>False</td>\n",
              "      <td>False</td>\n",
              "      <td>False</td>\n",
              "      <td>Day</td>\n",
              "      <td>Day</td>\n",
              "      <td>Day</td>\n",
              "      <td>Day</td>\n",
              "    </tr>\n",
              "    <tr>\n",
              "      <th>3076186</th>\n",
              "      <td>A-3076346</td>\n",
              "      <td>Bing</td>\n",
              "      <td>NaN</td>\n",
              "      <td>2</td>\n",
              "      <td>2019-10-12 11:59:00</td>\n",
              "      <td>2019-10-12 13:15:06</td>\n",
              "      <td>33.534918</td>\n",
              "      <td>-117.171463</td>\n",
              "      <td>33.534918</td>\n",
              "      <td>-117.171463</td>\n",
              "      <td>0.000</td>\n",
              "      <td>At CA-79/Winchester Rd - Accident.</td>\n",
              "      <td>NaN</td>\n",
              "      <td>Escondido Fwy S</td>\n",
              "      <td>R</td>\n",
              "      <td>Murrieta</td>\n",
              "      <td>Riverside</td>\n",
              "      <td>CA</td>\n",
              "      <td>92562</td>\n",
              "      <td>US</td>\n",
              "      <td>US/Pacific</td>\n",
              "      <td>KF70</td>\n",
              "      <td>2019-10-12 11:55:00</td>\n",
              "      <td>81.0</td>\n",
              "      <td>81.0</td>\n",
              "      <td>9.0</td>\n",
              "      <td>28.46</td>\n",
              "      <td>10.0</td>\n",
              "      <td>SSW</td>\n",
              "      <td>3.0</td>\n",
              "      <td>0.00</td>\n",
              "      <td>Fair</td>\n",
              "      <td>False</td>\n",
              "      <td>False</td>\n",
              "      <td>False</td>\n",
              "      <td>False</td>\n",
              "      <td>False</td>\n",
              "      <td>False</td>\n",
              "      <td>False</td>\n",
              "      <td>False</td>\n",
              "      <td>False</td>\n",
              "      <td>False</td>\n",
              "      <td>False</td>\n",
              "      <td>False</td>\n",
              "      <td>False</td>\n",
              "      <td>Day</td>\n",
              "      <td>Day</td>\n",
              "      <td>Day</td>\n",
              "      <td>Day</td>\n",
              "    </tr>\n",
              "    <tr>\n",
              "      <th>2655687</th>\n",
              "      <td>A-2655735</td>\n",
              "      <td>Bing</td>\n",
              "      <td>NaN</td>\n",
              "      <td>2</td>\n",
              "      <td>2017-03-03 18:21:52</td>\n",
              "      <td>2017-03-04 00:21:52</td>\n",
              "      <td>37.491100</td>\n",
              "      <td>-122.218630</td>\n",
              "      <td>37.487640</td>\n",
              "      <td>-122.207320</td>\n",
              "      <td>0.665</td>\n",
              "      <td>At CA-84/Woodside Rd/Exit 408 - Accident.</td>\n",
              "      <td>NaN</td>\n",
              "      <td>Bayshore Fwy S</td>\n",
              "      <td>R</td>\n",
              "      <td>Redwood City</td>\n",
              "      <td>San Mateo</td>\n",
              "      <td>CA</td>\n",
              "      <td>94063</td>\n",
              "      <td>US</td>\n",
              "      <td>US/Pacific</td>\n",
              "      <td>KSQL</td>\n",
              "      <td>2017-03-03 18:47:00</td>\n",
              "      <td>53.6</td>\n",
              "      <td>NaN</td>\n",
              "      <td>77.0</td>\n",
              "      <td>30.00</td>\n",
              "      <td>10.0</td>\n",
              "      <td>WNW</td>\n",
              "      <td>15.0</td>\n",
              "      <td>NaN</td>\n",
              "      <td>Mostly Cloudy</td>\n",
              "      <td>False</td>\n",
              "      <td>False</td>\n",
              "      <td>False</td>\n",
              "      <td>False</td>\n",
              "      <td>True</td>\n",
              "      <td>False</td>\n",
              "      <td>False</td>\n",
              "      <td>False</td>\n",
              "      <td>False</td>\n",
              "      <td>False</td>\n",
              "      <td>False</td>\n",
              "      <td>False</td>\n",
              "      <td>False</td>\n",
              "      <td>Night</td>\n",
              "      <td>Day</td>\n",
              "      <td>Day</td>\n",
              "      <td>Day</td>\n",
              "    </tr>\n",
              "    <tr>\n",
              "      <th>3099480</th>\n",
              "      <td>A-3099640</td>\n",
              "      <td>Bing</td>\n",
              "      <td>NaN</td>\n",
              "      <td>2</td>\n",
              "      <td>2019-10-30 08:51:00</td>\n",
              "      <td>2019-10-30 10:43:40</td>\n",
              "      <td>37.650442</td>\n",
              "      <td>-121.660682</td>\n",
              "      <td>37.650442</td>\n",
              "      <td>-121.660682</td>\n",
              "      <td>0.000</td>\n",
              "      <td>At Eagles Run Rd - Accident.</td>\n",
              "      <td>10901.0</td>\n",
              "      <td>Clifford Dr</td>\n",
              "      <td>L</td>\n",
              "      <td>Livermore</td>\n",
              "      <td>Alameda</td>\n",
              "      <td>CA</td>\n",
              "      <td>94550-9746</td>\n",
              "      <td>US</td>\n",
              "      <td>US/Pacific</td>\n",
              "      <td>KLVK</td>\n",
              "      <td>2019-10-30 08:53:00</td>\n",
              "      <td>49.0</td>\n",
              "      <td>45.0</td>\n",
              "      <td>19.0</td>\n",
              "      <td>29.72</td>\n",
              "      <td>10.0</td>\n",
              "      <td>ESE</td>\n",
              "      <td>10.0</td>\n",
              "      <td>0.00</td>\n",
              "      <td>Fair</td>\n",
              "      <td>False</td>\n",
              "      <td>False</td>\n",
              "      <td>False</td>\n",
              "      <td>False</td>\n",
              "      <td>False</td>\n",
              "      <td>False</td>\n",
              "      <td>False</td>\n",
              "      <td>False</td>\n",
              "      <td>False</td>\n",
              "      <td>False</td>\n",
              "      <td>False</td>\n",
              "      <td>False</td>\n",
              "      <td>False</td>\n",
              "      <td>Day</td>\n",
              "      <td>Day</td>\n",
              "      <td>Day</td>\n",
              "      <td>Day</td>\n",
              "    </tr>\n",
              "    <tr>\n",
              "      <th>955010</th>\n",
              "      <td>A-955036</td>\n",
              "      <td>MapQuest</td>\n",
              "      <td>201.0</td>\n",
              "      <td>2</td>\n",
              "      <td>2019-09-02 02:18:45</td>\n",
              "      <td>2019-09-02 04:30:20</td>\n",
              "      <td>33.549011</td>\n",
              "      <td>-117.801918</td>\n",
              "      <td>NaN</td>\n",
              "      <td>NaN</td>\n",
              "      <td>0.000</td>\n",
              "      <td>Accident on CA-1 Coast Hwy near San Joaquin St.</td>\n",
              "      <td>1500.0</td>\n",
              "      <td>N Coast Hwy</td>\n",
              "      <td>R</td>\n",
              "      <td>Laguna Beach</td>\n",
              "      <td>Orange</td>\n",
              "      <td>CA</td>\n",
              "      <td>92651-1343</td>\n",
              "      <td>US</td>\n",
              "      <td>US/Pacific</td>\n",
              "      <td>KSNA</td>\n",
              "      <td>2019-09-02 01:53:00</td>\n",
              "      <td>71.0</td>\n",
              "      <td>71.0</td>\n",
              "      <td>81.0</td>\n",
              "      <td>29.84</td>\n",
              "      <td>9.0</td>\n",
              "      <td>CALM</td>\n",
              "      <td>0.0</td>\n",
              "      <td>0.00</td>\n",
              "      <td>Fair</td>\n",
              "      <td>False</td>\n",
              "      <td>False</td>\n",
              "      <td>False</td>\n",
              "      <td>False</td>\n",
              "      <td>False</td>\n",
              "      <td>False</td>\n",
              "      <td>False</td>\n",
              "      <td>False</td>\n",
              "      <td>True</td>\n",
              "      <td>False</td>\n",
              "      <td>False</td>\n",
              "      <td>False</td>\n",
              "      <td>False</td>\n",
              "      <td>Night</td>\n",
              "      <td>Night</td>\n",
              "      <td>Night</td>\n",
              "      <td>Night</td>\n",
              "    </tr>\n",
              "  </tbody>\n",
              "</table>\n",
              "</div>"
            ],
            "text/plain": [
              "                ID    Source  ...  Nautical_Twilight  Astronomical_Twilight\n",
              "3200930  A-3201090      Bing  ...                Day                    Day\n",
              "3076186  A-3076346      Bing  ...                Day                    Day\n",
              "2655687  A-2655735      Bing  ...                Day                    Day\n",
              "3099480  A-3099640      Bing  ...                Day                    Day\n",
              "955010    A-955036  MapQuest  ...              Night                  Night\n",
              "\n",
              "[5 rows x 49 columns]"
            ]
          },
          "metadata": {
            "tags": []
          },
          "execution_count": 6
        }
      ]
    },
    {
      "cell_type": "code",
      "metadata": {
        "id": "AePWT5woYfgA",
        "outputId": "b315ec17-023a-474e-85d1-ea74a2be6658",
        "colab": {
          "base_uri": "https://localhost:8080/",
          "height": 969
        }
      },
      "source": [
        "#Inspect the dataset. \n",
        "df.info()"
      ],
      "execution_count": 7,
      "outputs": [
        {
          "output_type": "stream",
          "text": [
            "<class 'pandas.core.frame.DataFrame'>\n",
            "Int64Index: 100000 entries, 3200930 to 1539750\n",
            "Data columns (total 49 columns):\n",
            " #   Column                 Non-Null Count   Dtype  \n",
            "---  ------                 --------------   -----  \n",
            " 0   ID                     100000 non-null  object \n",
            " 1   Source                 100000 non-null  object \n",
            " 2   TMC                    59305 non-null   float64\n",
            " 3   Severity               100000 non-null  int64  \n",
            " 4   Start_Time             100000 non-null  object \n",
            " 5   End_Time               100000 non-null  object \n",
            " 6   Start_Lat              100000 non-null  float64\n",
            " 7   Start_Lng              100000 non-null  float64\n",
            " 8   End_Lat                40695 non-null   float64\n",
            " 9   End_Lng                40695 non-null   float64\n",
            " 10  Distance(mi)           100000 non-null  float64\n",
            " 11  Description            100000 non-null  object \n",
            " 12  Number                 21411 non-null   float64\n",
            " 13  Street                 100000 non-null  object \n",
            " 14  Side                   100000 non-null  object \n",
            " 15  City                   99998 non-null   object \n",
            " 16  County                 100000 non-null  object \n",
            " 17  State                  100000 non-null  object \n",
            " 18  Zipcode                99962 non-null   object \n",
            " 19  Country                100000 non-null  object \n",
            " 20  Timezone               99962 non-null   object \n",
            " 21  Airport_Code           99960 non-null   object \n",
            " 22  Weather_Timestamp      98498 non-null   object \n",
            " 23  Temperature(F)         97618 non-null   float64\n",
            " 24  Wind_Chill(F)          41733 non-null   float64\n",
            " 25  Humidity(%)            97456 non-null   float64\n",
            " 26  Pressure(in)           98211 non-null   float64\n",
            " 27  Visibility(mi)         97964 non-null   float64\n",
            " 28  Wind_Direction         97958 non-null   object \n",
            " 29  Wind_Speed(mph)        83750 non-null   float64\n",
            " 30  Precipitation(in)      40768 non-null   float64\n",
            " 31  Weather_Condition      97996 non-null   object \n",
            " 32  Amenity                100000 non-null  bool   \n",
            " 33  Bump                   100000 non-null  bool   \n",
            " 34  Crossing               100000 non-null  bool   \n",
            " 35  Give_Way               100000 non-null  bool   \n",
            " 36  Junction               100000 non-null  bool   \n",
            " 37  No_Exit                100000 non-null  bool   \n",
            " 38  Railway                100000 non-null  bool   \n",
            " 39  Roundabout             100000 non-null  bool   \n",
            " 40  Station                100000 non-null  bool   \n",
            " 41  Stop                   100000 non-null  bool   \n",
            " 42  Traffic_Calming        100000 non-null  bool   \n",
            " 43  Traffic_Signal         100000 non-null  bool   \n",
            " 44  Turning_Loop           100000 non-null  bool   \n",
            " 45  Sunrise_Sunset         99998 non-null   object \n",
            " 46  Civil_Twilight         99998 non-null   object \n",
            " 47  Nautical_Twilight      99998 non-null   object \n",
            " 48  Astronomical_Twilight  99998 non-null   object \n",
            "dtypes: bool(13), float64(14), int64(1), object(21)\n",
            "memory usage: 29.5+ MB\n"
          ],
          "name": "stdout"
        }
      ]
    },
    {
      "cell_type": "markdown",
      "metadata": {
        "id": "JPsmPWyTKVnt"
      },
      "source": [
        "## Data preprocessing\n",
        "\n",
        "Utvärdera kvaliteten på ert data och genomför nödvändig pre-processing för att adressera dessa kvalitetsbrister. Pre-processingen ska vara relevant för den fråga ni ska ställa, det innebär att ni förmodligen behöver olika pre-processing för era två olika frågor. (30 poäng).\n",
        "\n",
        "*Hint: Tänk på om du behöver droppa kolumner som inte är relevanta, duplicerad data, saknad data, tänk också på vilken typ av data ni behöver beroende på vilka modeller ni planerar att använda*"
      ]
    },
    {
      "cell_type": "markdown",
      "metadata": {
        "id": "WmpkX4O7V_sK"
      },
      "source": [
        "In this question, we want to use the clustering algorithms to see if we can find any patterns. \n",
        "\n",
        "We will start of with filter the dataset, so our new dataframe only contains the columns we want to work with. "
      ]
    },
    {
      "cell_type": "code",
      "metadata": {
        "id": "EnlUM8Y5Tjmu"
      },
      "source": [
        "#Filter the dataset based on the weather information we can get. \n",
        "df_ca = df[['Temperature(F)', 'Wind_Chill(F)', 'Humidity(%)', 'Pressure(in)', 'Visibility(mi)','Wind_Speed(mph)']]"
      ],
      "execution_count": 8,
      "outputs": []
    },
    {
      "cell_type": "code",
      "metadata": {
        "id": "NSZlj9twUDTl",
        "outputId": "fa514ec8-ad12-4fe7-d7ee-ca28bfcf3f92",
        "colab": {
          "base_uri": "https://localhost:8080/",
          "height": 204
        }
      },
      "source": [
        "#Check the filtered dataset.\n",
        "df_ca.head()"
      ],
      "execution_count": 9,
      "outputs": [
        {
          "output_type": "execute_result",
          "data": {
            "text/html": [
              "<div>\n",
              "<style scoped>\n",
              "    .dataframe tbody tr th:only-of-type {\n",
              "        vertical-align: middle;\n",
              "    }\n",
              "\n",
              "    .dataframe tbody tr th {\n",
              "        vertical-align: top;\n",
              "    }\n",
              "\n",
              "    .dataframe thead th {\n",
              "        text-align: right;\n",
              "    }\n",
              "</style>\n",
              "<table border=\"1\" class=\"dataframe\">\n",
              "  <thead>\n",
              "    <tr style=\"text-align: right;\">\n",
              "      <th></th>\n",
              "      <th>Temperature(F)</th>\n",
              "      <th>Wind_Chill(F)</th>\n",
              "      <th>Humidity(%)</th>\n",
              "      <th>Pressure(in)</th>\n",
              "      <th>Visibility(mi)</th>\n",
              "      <th>Wind_Speed(mph)</th>\n",
              "    </tr>\n",
              "  </thead>\n",
              "  <tbody>\n",
              "    <tr>\n",
              "      <th>3200930</th>\n",
              "      <td>53.1</td>\n",
              "      <td>NaN</td>\n",
              "      <td>80.0</td>\n",
              "      <td>29.98</td>\n",
              "      <td>10.0</td>\n",
              "      <td>11.5</td>\n",
              "    </tr>\n",
              "    <tr>\n",
              "      <th>3076186</th>\n",
              "      <td>81.0</td>\n",
              "      <td>81.0</td>\n",
              "      <td>9.0</td>\n",
              "      <td>28.46</td>\n",
              "      <td>10.0</td>\n",
              "      <td>3.0</td>\n",
              "    </tr>\n",
              "    <tr>\n",
              "      <th>2655687</th>\n",
              "      <td>53.6</td>\n",
              "      <td>NaN</td>\n",
              "      <td>77.0</td>\n",
              "      <td>30.00</td>\n",
              "      <td>10.0</td>\n",
              "      <td>15.0</td>\n",
              "    </tr>\n",
              "    <tr>\n",
              "      <th>3099480</th>\n",
              "      <td>49.0</td>\n",
              "      <td>45.0</td>\n",
              "      <td>19.0</td>\n",
              "      <td>29.72</td>\n",
              "      <td>10.0</td>\n",
              "      <td>10.0</td>\n",
              "    </tr>\n",
              "    <tr>\n",
              "      <th>955010</th>\n",
              "      <td>71.0</td>\n",
              "      <td>71.0</td>\n",
              "      <td>81.0</td>\n",
              "      <td>29.84</td>\n",
              "      <td>9.0</td>\n",
              "      <td>0.0</td>\n",
              "    </tr>\n",
              "  </tbody>\n",
              "</table>\n",
              "</div>"
            ],
            "text/plain": [
              "         Temperature(F)  Wind_Chill(F)  ...  Visibility(mi)  Wind_Speed(mph)\n",
              "3200930            53.1            NaN  ...            10.0             11.5\n",
              "3076186            81.0           81.0  ...            10.0              3.0\n",
              "2655687            53.6            NaN  ...            10.0             15.0\n",
              "3099480            49.0           45.0  ...            10.0             10.0\n",
              "955010             71.0           71.0  ...             9.0              0.0\n",
              "\n",
              "[5 rows x 6 columns]"
            ]
          },
          "metadata": {
            "tags": []
          },
          "execution_count": 9
        }
      ]
    },
    {
      "cell_type": "code",
      "metadata": {
        "id": "EPrU4BxcSb9-",
        "outputId": "07739614-c7c1-4b8e-f2e8-c5e0c699d6bf",
        "colab": {
          "base_uri": "https://localhost:8080/",
          "height": 238
        }
      },
      "source": [
        "#Explore which datatypes the dataset contains.\n",
        "df_ca.info()"
      ],
      "execution_count": 10,
      "outputs": [
        {
          "output_type": "stream",
          "text": [
            "<class 'pandas.core.frame.DataFrame'>\n",
            "Int64Index: 100000 entries, 3200930 to 1539750\n",
            "Data columns (total 6 columns):\n",
            " #   Column           Non-Null Count  Dtype  \n",
            "---  ------           --------------  -----  \n",
            " 0   Temperature(F)   97618 non-null  float64\n",
            " 1   Wind_Chill(F)    41733 non-null  float64\n",
            " 2   Humidity(%)      97456 non-null  float64\n",
            " 3   Pressure(in)     98211 non-null  float64\n",
            " 4   Visibility(mi)   97964 non-null  float64\n",
            " 5   Wind_Speed(mph)  83750 non-null  float64\n",
            "dtypes: float64(6)\n",
            "memory usage: 5.3 MB\n"
          ],
          "name": "stdout"
        }
      ]
    },
    {
      "cell_type": "code",
      "metadata": {
        "id": "bJ-mYld3SBk4",
        "outputId": "fa018f1d-a0d0-4f3a-a5d3-45cd1f953ff1",
        "colab": {
          "base_uri": "https://localhost:8080/",
          "height": 368
        }
      },
      "source": [
        "#Visualize the missing values of the dataset. \n",
        "sns.heatmap(df_ca.isna(), cbar=False)"
      ],
      "execution_count": 11,
      "outputs": [
        {
          "output_type": "execute_result",
          "data": {
            "text/plain": [
              "<matplotlib.axes._subplots.AxesSubplot at 0x7f22307d86d8>"
            ]
          },
          "metadata": {
            "tags": []
          },
          "execution_count": 11
        },
        {
          "output_type": "display_data",
          "data": {
            "image/png": "[encoded data removed]",
            "text/plain": [
              "<Figure size 432x288 with 1 Axes>"
            ]
          },
          "metadata": {
            "tags": [],
            "needs_background": "light"
          }
        }
      ]
    },
    {
      "cell_type": "code",
      "metadata": {
        "id": "XYygDIiJDD0X",
        "outputId": "a613f767-991d-4b92-9827-9b27a2347d7f",
        "colab": {
          "base_uri": "https://localhost:8080/",
          "height": 136
        }
      },
      "source": [
        "df_ca.isna().sum()"
      ],
      "execution_count": 12,
      "outputs": [
        {
          "output_type": "execute_result",
          "data": {
            "text/plain": [
              "Temperature(F)      2382\n",
              "Wind_Chill(F)      58267\n",
              "Humidity(%)         2544\n",
              "Pressure(in)        1789\n",
              "Visibility(mi)      2036\n",
              "Wind_Speed(mph)    16250\n",
              "dtype: int64"
            ]
          },
          "metadata": {
            "tags": []
          },
          "execution_count": 12
        }
      ]
    },
    {
      "cell_type": "markdown",
      "metadata": {
        "id": "TCelOS6UWUzb"
      },
      "source": [
        "The first part is to explore the dataset, and then to make the dataset ready for the machine learning tasks. We want to handle outliers and missing values. "
      ]
    },
    {
      "cell_type": "markdown",
      "metadata": {
        "id": "sqiTF5NmFRzU"
      },
      "source": [
        "First we want to see if our Temperature-column contains any outliers.\n",
        "Then we want to remove these values, before we can assign the missing values with the median."
      ]
    },
    {
      "cell_type": "code",
      "metadata": {
        "id": "x3jYlH8hEpuu",
        "outputId": "a0ade8ca-9882-4a75-a3f9-ed74e69c995b",
        "colab": {
          "base_uri": "https://localhost:8080/",
          "height": 296
        }
      },
      "source": [
        "sns.boxplot(x=df_ca['Temperature(F)'])"
      ],
      "execution_count": 13,
      "outputs": [
        {
          "output_type": "execute_result",
          "data": {
            "text/plain": [
              "<matplotlib.axes._subplots.AxesSubplot at 0x7f221caa4080>"
            ]
          },
          "metadata": {
            "tags": []
          },
          "execution_count": 13
        },
        {
          "output_type": "display_data",
          "data": {
            "image/png": "[encoded data removed]",
            "text/plain": [
              "<Figure size 432x288 with 1 Axes>"
            ]
          },
          "metadata": {
            "tags": [],
            "needs_background": "light"
          }
        }
      ]
    },
    {
      "cell_type": "code",
      "metadata": {
        "id": "PsQyvrn8GMYl",
        "outputId": "e2c6ade8-66d3-409e-cc3e-ea3a410dd2e2",
        "colab": {
          "base_uri": "https://localhost:8080/",
          "height": 34
        }
      },
      "source": [
        "df_ca[df_ca['Temperature(F)'] > 95].shape"
      ],
      "execution_count": 14,
      "outputs": [
        {
          "output_type": "execute_result",
          "data": {
            "text/plain": [
              "(1334, 6)"
            ]
          },
          "metadata": {
            "tags": []
          },
          "execution_count": 14
        }
      ]
    },
    {
      "cell_type": "markdown",
      "metadata": {
        "id": "iC-Brh2qG9V-"
      },
      "source": [
        "We can see that we have 1334, values out of 100_000 that is outliers in our dataset. "
      ]
    },
    {
      "cell_type": "code",
      "metadata": {
        "id": "ZpUnWqVhG3SS",
        "outputId": "e3cf50ab-8f9e-4603-c3a0-14a0a9ec3535",
        "colab": {
          "base_uri": "https://localhost:8080/",
          "height": 34
        }
      },
      "source": [
        "df_ca[df_ca['Temperature(F)'] < 30].shape"
      ],
      "execution_count": 15,
      "outputs": [
        {
          "output_type": "execute_result",
          "data": {
            "text/plain": [
              "(155, 6)"
            ]
          },
          "metadata": {
            "tags": []
          },
          "execution_count": 15
        }
      ]
    },
    {
      "cell_type": "markdown",
      "metadata": {
        "id": "yudF7vl0HFNM"
      },
      "source": [
        "We can se that we have 155 values that is below 30. "
      ]
    },
    {
      "cell_type": "markdown",
      "metadata": {
        "id": "093b18BRHLDQ"
      },
      "source": [
        "We will delete the rows based on the condition ``Temperature > 90`` and ``Temperature < 30``, I consider them to be outliers. "
      ]
    },
    {
      "cell_type": "code",
      "metadata": {
        "id": "06pKvUoPrn50"
      },
      "source": [
        "#Drop rows based on condition. \n",
        "df_ca.drop(df_ca[df_ca['Temperature(F)'] <= 30].index, inplace=True)\n",
        "df_ca.drop(df_ca[df_ca['Temperature(F)'] > 95].index, inplace=True)"
      ],
      "execution_count": 16,
      "outputs": []
    },
    {
      "cell_type": "code",
      "metadata": {
        "id": "hQnu2zXzd5Ri",
        "outputId": "82195f56-77fa-4cdd-86fd-eead0124c893",
        "colab": {
          "base_uri": "https://localhost:8080/",
          "height": 34
        }
      },
      "source": [
        "#Get the median of the median in median_temperature and assign to a new variable.\n",
        "median_temp = df_ca['Temperature(F)'].mean()\n",
        "median_temp"
      ],
      "execution_count": 17,
      "outputs": [
        {
          "output_type": "execute_result",
          "data": {
            "text/plain": [
              "64.5999583745261"
            ]
          },
          "metadata": {
            "tags": []
          },
          "execution_count": 17
        }
      ]
    },
    {
      "cell_type": "code",
      "metadata": {
        "id": "9ZvUQdj9dhN_"
      },
      "source": [
        "#Replace the missing data in Temperature with the median.\n",
        "df_ca['Temperature(F)'].fillna(median_temp, inplace=True)"
      ],
      "execution_count": 18,
      "outputs": []
    },
    {
      "cell_type": "code",
      "metadata": {
        "id": "2GrB8fqAkmnn",
        "outputId": "b5c14906-f022-44d2-80b8-c86ca34bc7b3",
        "colab": {
          "base_uri": "https://localhost:8080/",
          "height": 136
        }
      },
      "source": [
        "#Check the amount of missing value by column.\n",
        "df_ca.isna().sum()"
      ],
      "execution_count": 19,
      "outputs": [
        {
          "output_type": "execute_result",
          "data": {
            "text/plain": [
              "Temperature(F)         0\n",
              "Wind_Chill(F)      57491\n",
              "Humidity(%)         2537\n",
              "Pressure(in)        1788\n",
              "Visibility(mi)      2029\n",
              "Wind_Speed(mph)    16188\n",
              "dtype: int64"
            ]
          },
          "metadata": {
            "tags": []
          },
          "execution_count": 19
        }
      ]
    },
    {
      "cell_type": "markdown",
      "metadata": {
        "id": "d3pHmDRG1jKI"
      },
      "source": [
        "* The ``Wind_Chill(F)``-column will be dropped, because it has around 58% missing values. \n",
        "*  We have data about the weather condition, we don't need the column ``Weather_Condition``, this will we dropped as well. "
      ]
    },
    {
      "cell_type": "code",
      "metadata": {
        "id": "ermyUtsDUbjq"
      },
      "source": [
        "#Drop columns.\n",
        "df_ca.drop('Wind_Chill(F)', axis=1, inplace=True)"
      ],
      "execution_count": 20,
      "outputs": []
    },
    {
      "cell_type": "code",
      "metadata": {
        "id": "PQtZPMEh2tY2",
        "outputId": "e0a3fe38-1985-4817-f4c4-0f5addbee088",
        "colab": {
          "base_uri": "https://localhost:8080/",
          "height": 204
        }
      },
      "source": [
        "df_ca.head()"
      ],
      "execution_count": 21,
      "outputs": [
        {
          "output_type": "execute_result",
          "data": {
            "text/html": [
              "<div>\n",
              "<style scoped>\n",
              "    .dataframe tbody tr th:only-of-type {\n",
              "        vertical-align: middle;\n",
              "    }\n",
              "\n",
              "    .dataframe tbody tr th {\n",
              "        vertical-align: top;\n",
              "    }\n",
              "\n",
              "    .dataframe thead th {\n",
              "        text-align: right;\n",
              "    }\n",
              "</style>\n",
              "<table border=\"1\" class=\"dataframe\">\n",
              "  <thead>\n",
              "    <tr style=\"text-align: right;\">\n",
              "      <th></th>\n",
              "      <th>Temperature(F)</th>\n",
              "      <th>Humidity(%)</th>\n",
              "      <th>Pressure(in)</th>\n",
              "      <th>Visibility(mi)</th>\n",
              "      <th>Wind_Speed(mph)</th>\n",
              "    </tr>\n",
              "  </thead>\n",
              "  <tbody>\n",
              "    <tr>\n",
              "      <th>3200930</th>\n",
              "      <td>53.1</td>\n",
              "      <td>80.0</td>\n",
              "      <td>29.98</td>\n",
              "      <td>10.0</td>\n",
              "      <td>11.5</td>\n",
              "    </tr>\n",
              "    <tr>\n",
              "      <th>3076186</th>\n",
              "      <td>81.0</td>\n",
              "      <td>9.0</td>\n",
              "      <td>28.46</td>\n",
              "      <td>10.0</td>\n",
              "      <td>3.0</td>\n",
              "    </tr>\n",
              "    <tr>\n",
              "      <th>2655687</th>\n",
              "      <td>53.6</td>\n",
              "      <td>77.0</td>\n",
              "      <td>30.00</td>\n",
              "      <td>10.0</td>\n",
              "      <td>15.0</td>\n",
              "    </tr>\n",
              "    <tr>\n",
              "      <th>3099480</th>\n",
              "      <td>49.0</td>\n",
              "      <td>19.0</td>\n",
              "      <td>29.72</td>\n",
              "      <td>10.0</td>\n",
              "      <td>10.0</td>\n",
              "    </tr>\n",
              "    <tr>\n",
              "      <th>955010</th>\n",
              "      <td>71.0</td>\n",
              "      <td>81.0</td>\n",
              "      <td>29.84</td>\n",
              "      <td>9.0</td>\n",
              "      <td>0.0</td>\n",
              "    </tr>\n",
              "  </tbody>\n",
              "</table>\n",
              "</div>"
            ],
            "text/plain": [
              "         Temperature(F)  Humidity(%)  ...  Visibility(mi)  Wind_Speed(mph)\n",
              "3200930            53.1         80.0  ...            10.0             11.5\n",
              "3076186            81.0          9.0  ...            10.0              3.0\n",
              "2655687            53.6         77.0  ...            10.0             15.0\n",
              "3099480            49.0         19.0  ...            10.0             10.0\n",
              "955010             71.0         81.0  ...             9.0              0.0\n",
              "\n",
              "[5 rows x 5 columns]"
            ]
          },
          "metadata": {
            "tags": []
          },
          "execution_count": 21
        }
      ]
    },
    {
      "cell_type": "code",
      "metadata": {
        "id": "ZeO6LhZwgVgm",
        "outputId": "653809e1-85ae-4b73-cf63-762765910854",
        "colab": {
          "base_uri": "https://localhost:8080/",
          "height": 119
        }
      },
      "source": [
        "#Check the sum of NaN. \n",
        "df_ca.isna().sum()"
      ],
      "execution_count": 22,
      "outputs": [
        {
          "output_type": "execute_result",
          "data": {
            "text/plain": [
              "Temperature(F)         0\n",
              "Humidity(%)         2537\n",
              "Pressure(in)        1788\n",
              "Visibility(mi)      2029\n",
              "Wind_Speed(mph)    16188\n",
              "dtype: int64"
            ]
          },
          "metadata": {
            "tags": []
          },
          "execution_count": 22
        }
      ]
    },
    {
      "cell_type": "markdown",
      "metadata": {
        "id": "LVbsR-0SH8AM"
      },
      "source": [
        "Now we want to see if the column ``Humidity(%)`` contains any outliers. We will display that by using a boxplot. "
      ]
    },
    {
      "cell_type": "code",
      "metadata": {
        "id": "_5WPCStJEaau",
        "outputId": "3b37bff4-15eb-49a2-cf7e-20cb4658c6de",
        "colab": {
          "base_uri": "https://localhost:8080/",
          "height": 296
        }
      },
      "source": [
        "sns.boxplot(x=df_ca['Humidity(%)'])"
      ],
      "execution_count": 23,
      "outputs": [
        {
          "output_type": "execute_result",
          "data": {
            "text/plain": [
              "<matplotlib.axes._subplots.AxesSubplot at 0x7f221c615908>"
            ]
          },
          "metadata": {
            "tags": []
          },
          "execution_count": 23
        },
        {
          "output_type": "display_data",
          "data": {
            "image/png": "[encoded data removed]",
            "text/plain": [
              "<Figure size 432x288 with 1 Axes>"
            ]
          },
          "metadata": {
            "tags": [],
            "needs_background": "light"
          }
        }
      ]
    },
    {
      "cell_type": "markdown",
      "metadata": {
        "id": "U25TGTq0Dkfj"
      },
      "source": [
        "We can see in the boxplot that our ``Humidity(%)`` dont contain any outliers. We have about 2.5% missing values in the ``Humidity(%)``-column. We will replace these missing values with the mean."
      ]
    },
    {
      "cell_type": "code",
      "metadata": {
        "id": "BZYcN7q2hTcC",
        "outputId": "2b013064-8701-4a22-f06c-acf7b3932ed6",
        "colab": {
          "base_uri": "https://localhost:8080/",
          "height": 85
        }
      },
      "source": [
        "#Print information about the distribution of values in Humidity. \n",
        "print(df_ca['Humidity(%)'].mean())\n",
        "print(df_ca['Humidity(%)'].median())\n",
        "print(df_ca['Humidity(%)'].max())\n",
        "print(df_ca['Humidity(%)'].min())\n",
        "\n",
        "mean_humidityy = df_ca['Humidity(%)'].mean()"
      ],
      "execution_count": 24,
      "outputs": [
        {
          "output_type": "stream",
          "text": [
            "60.120419011882426\n",
            "63.0\n",
            "100.0\n",
            "2.0\n"
          ],
          "name": "stdout"
        }
      ]
    },
    {
      "cell_type": "code",
      "metadata": {
        "id": "ikq8mkO4hmKj"
      },
      "source": [
        "#Fill the missing values with 59 (mean value from Humidity-column.)\n",
        "df_ca['Humidity(%)'].fillna(mean_humidityy, inplace=True)"
      ],
      "execution_count": 25,
      "outputs": []
    },
    {
      "cell_type": "markdown",
      "metadata": {
        "id": "64nw1-sAJkza"
      },
      "source": [
        "Next we will look closer to the ``Pressure(in)``. \n",
        "From the boxplot we can see that we have outliers. We have to remove these values to proceed, and handle the NaN. "
      ]
    },
    {
      "cell_type": "code",
      "metadata": {
        "id": "clFWuX4zIlkC",
        "outputId": "bb5b46ff-ce4e-4a9e-ca13-3c543049904b",
        "colab": {
          "base_uri": "https://localhost:8080/",
          "height": 296
        }
      },
      "source": [
        "#Create a boxplot of Pressure(in)\n",
        "sns.boxplot(x=df_ca['Pressure(in)'])"
      ],
      "execution_count": 26,
      "outputs": [
        {
          "output_type": "execute_result",
          "data": {
            "text/plain": [
              "<matplotlib.axes._subplots.AxesSubplot at 0x7f221bb23fd0>"
            ]
          },
          "metadata": {
            "tags": []
          },
          "execution_count": 26
        },
        {
          "output_type": "display_data",
          "data": {
            "image/png": "[encoded data removed]",
            "text/plain": [
              "<Figure size 432x288 with 1 Axes>"
            ]
          },
          "metadata": {
            "tags": [],
            "needs_background": "light"
          }
        }
      ]
    },
    {
      "cell_type": "markdown",
      "metadata": {
        "id": "O8AUW11WItQA"
      },
      "source": [
        "The column ``Presure(in)`` is containg outliers that has to be handled. "
      ]
    },
    {
      "cell_type": "code",
      "metadata": {
        "id": "fxn7HHZGI728",
        "outputId": "b5fb5688-df1d-4a97-b18b-1b25e06975e1",
        "colab": {
          "base_uri": "https://localhost:8080/",
          "height": 34
        }
      },
      "source": [
        "df_ca[df_ca['Pressure(in)'] < 25].shape"
      ],
      "execution_count": 27,
      "outputs": [
        {
          "output_type": "execute_result",
          "data": {
            "text/plain": [
              "(148, 5)"
            ]
          },
          "metadata": {
            "tags": []
          },
          "execution_count": 27
        }
      ]
    },
    {
      "cell_type": "markdown",
      "metadata": {
        "id": "ThZ96JGrKBt0"
      },
      "source": [
        "We will start of by dropping the values less than 25. "
      ]
    },
    {
      "cell_type": "code",
      "metadata": {
        "id": "NDlZM9XPJWre",
        "outputId": "fc87806e-c3f0-4bc8-e886-d6ddad8d6fc8",
        "colab": {
          "base_uri": "https://localhost:8080/",
          "height": 34
        }
      },
      "source": [
        "#Drop values above 25 in pressure-column.\n",
        "df_ca.drop(df_ca[df_ca['Pressure(in)'] < 25].index, inplace=True)\n",
        "df_ca[df_ca['Pressure(in)'] < 25].shape"
      ],
      "execution_count": 28,
      "outputs": [
        {
          "output_type": "execute_result",
          "data": {
            "text/plain": [
              "(0, 5)"
            ]
          },
          "metadata": {
            "tags": []
          },
          "execution_count": 28
        }
      ]
    },
    {
      "cell_type": "markdown",
      "metadata": {
        "id": "pbUQLAzwLsfI"
      },
      "source": [
        "Next we want to fill the NaN with the mean value. First we will print the information about the max, min and mean from the Temperature-column. "
      ]
    },
    {
      "cell_type": "code",
      "metadata": {
        "id": "hTWv_nfhMFTQ",
        "outputId": "3a4f7522-14f4-4873-ba77-513dd5678202",
        "colab": {
          "base_uri": "https://localhost:8080/",
          "height": 34
        }
      },
      "source": [
        "#Check sum of missing values.\n",
        "df_ca['Pressure(in)'].isna().sum()"
      ],
      "execution_count": 29,
      "outputs": [
        {
          "output_type": "execute_result",
          "data": {
            "text/plain": [
              "1788"
            ]
          },
          "metadata": {
            "tags": []
          },
          "execution_count": 29
        }
      ]
    },
    {
      "cell_type": "code",
      "metadata": {
        "id": "xa2jpIi4MYRE",
        "outputId": "85d8cd28-fdb5-44a8-facc-e56aa0194f06",
        "colab": {
          "base_uri": "https://localhost:8080/",
          "height": 350
        }
      },
      "source": [
        "#Explore the distribution of values. \n",
        "sns.boxplot(df_ca['Pressure(in)'])"
      ],
      "execution_count": 30,
      "outputs": [
        {
          "output_type": "stream",
          "text": [
            "/usr/local/lib/python3.6/dist-packages/seaborn/_decorators.py:43: FutureWarning: Pass the following variable as a keyword arg: x. From version 0.12, the only valid positional argument will be `data`, and passing other arguments without an explicit keyword will result in an error or misinterpretation.\n",
            "  FutureWarning\n"
          ],
          "name": "stderr"
        },
        {
          "output_type": "execute_result",
          "data": {
            "text/plain": [
              "<matplotlib.axes._subplots.AxesSubplot at 0x7f221baedcc0>"
            ]
          },
          "metadata": {
            "tags": []
          },
          "execution_count": 30
        },
        {
          "output_type": "display_data",
          "data": {
            "image/png": "[encoded data removed]",
            "text/plain": [
              "<Figure size 432x288 with 1 Axes>"
            ]
          },
          "metadata": {
            "tags": [],
            "needs_background": "light"
          }
        }
      ]
    },
    {
      "cell_type": "code",
      "metadata": {
        "id": "wbEYy92thtKb",
        "outputId": "9b903a32-83f4-4731-d5b9-607be663946f",
        "colab": {
          "base_uri": "https://localhost:8080/",
          "height": 68
        }
      },
      "source": [
        "#Print info about pressure-column.\n",
        "print(df_ca['Pressure(in)'].mean())\n",
        "print(df_ca['Pressure(in)'].max())\n",
        "print(df_ca['Pressure(in)'].min())\n",
        "\n",
        "\n",
        "mean_pressure = df_ca['Pressure(in)'].mean()"
      ],
      "execution_count": 31,
      "outputs": [
        {
          "output_type": "stream",
          "text": [
            "29.809526522409623\n",
            "30.63\n",
            "25.0\n"
          ],
          "name": "stdout"
        }
      ]
    },
    {
      "cell_type": "code",
      "metadata": {
        "id": "32FX2-SVh3q_"
      },
      "source": [
        "#Fill missing values with mean of pressure. \n",
        "df_ca['Pressure(in)'].fillna(mean_pressure, inplace=True)"
      ],
      "execution_count": 32,
      "outputs": []
    },
    {
      "cell_type": "code",
      "metadata": {
        "id": "1N1Hmlfr3e75",
        "outputId": "7d546350-859d-4938-cc54-d9de1356d7ce",
        "colab": {
          "base_uri": "https://localhost:8080/",
          "height": 119
        }
      },
      "source": [
        "#Check sum of missing values.\n",
        "df_ca.isna().sum()"
      ],
      "execution_count": 33,
      "outputs": [
        {
          "output_type": "execute_result",
          "data": {
            "text/plain": [
              "Temperature(F)         0\n",
              "Humidity(%)            0\n",
              "Pressure(in)           0\n",
              "Visibility(mi)      2029\n",
              "Wind_Speed(mph)    16187\n",
              "dtype: int64"
            ]
          },
          "metadata": {
            "tags": []
          },
          "execution_count": 33
        }
      ]
    },
    {
      "cell_type": "markdown",
      "metadata": {
        "id": "ZR-LXn__NV4a"
      },
      "source": [
        "Now we want to handle the Wind_Speed(mph)-column. The first thing we want to do as we have done with the previous exercises is to see if we have any outliers. "
      ]
    },
    {
      "cell_type": "code",
      "metadata": {
        "id": "uhtxO0d5Nm3x",
        "outputId": "087fce76-5308-452d-942f-c2ff5d053304",
        "colab": {
          "base_uri": "https://localhost:8080/",
          "height": 351
        }
      },
      "source": [
        "#Visulaize distribution of values in wind-speed column. \n",
        "sns.boxplot(df_ca['Wind_Speed(mph)'])"
      ],
      "execution_count": 34,
      "outputs": [
        {
          "output_type": "stream",
          "text": [
            "/usr/local/lib/python3.6/dist-packages/seaborn/_decorators.py:43: FutureWarning: Pass the following variable as a keyword arg: x. From version 0.12, the only valid positional argument will be `data`, and passing other arguments without an explicit keyword will result in an error or misinterpretation.\n",
            "  FutureWarning\n"
          ],
          "name": "stderr"
        },
        {
          "output_type": "execute_result",
          "data": {
            "text/plain": [
              "<matplotlib.axes._subplots.AxesSubplot at 0x7f221bab7c50>"
            ]
          },
          "metadata": {
            "tags": []
          },
          "execution_count": 34
        },
        {
          "output_type": "display_data",
          "data": {
            "image/png": "[encoded data removed]",
            "text/plain": [
              "<Figure size 432x288 with 1 Axes>"
            ]
          },
          "metadata": {
            "tags": [],
            "needs_background": "light"
          }
        }
      ]
    },
    {
      "cell_type": "code",
      "metadata": {
        "id": "Z7P4DdTNNxnw",
        "outputId": "2a08cda9-dc07-4072-9673-63e087da02cc",
        "colab": {
          "base_uri": "https://localhost:8080/",
          "height": 34
        }
      },
      "source": [
        "#See sum amount of values above 25. \n",
        "df_ca[df_ca['Wind_Speed(mph)'] > 25].shape"
      ],
      "execution_count": 35,
      "outputs": [
        {
          "output_type": "execute_result",
          "data": {
            "text/plain": [
              "(310, 5)"
            ]
          },
          "metadata": {
            "tags": []
          },
          "execution_count": 35
        }
      ]
    },
    {
      "cell_type": "markdown",
      "metadata": {
        "id": "zok6O2M4N5uO"
      },
      "source": [
        "The detected outliers (310) in the column will be removed. "
      ]
    },
    {
      "cell_type": "code",
      "metadata": {
        "id": "ZuWCDnB-OEF0",
        "outputId": "44e23360-eafe-429f-8766-87e5345436b5",
        "colab": {
          "base_uri": "https://localhost:8080/",
          "height": 34
        }
      },
      "source": [
        "#Drop values above 25 in wind-speed column.\n",
        "df_ca.drop(df_ca[df_ca['Wind_Speed(mph)'] > 25].index, inplace=True)\n",
        "df_ca[df_ca['Wind_Speed(mph)'] > 25].shape"
      ],
      "execution_count": 36,
      "outputs": [
        {
          "output_type": "execute_result",
          "data": {
            "text/plain": [
              "(0, 5)"
            ]
          },
          "metadata": {
            "tags": []
          },
          "execution_count": 36
        }
      ]
    },
    {
      "cell_type": "markdown",
      "metadata": {
        "id": "-N7Wn2wnQIqw"
      },
      "source": [
        "We will now fill the NaN with the mean value. "
      ]
    },
    {
      "cell_type": "code",
      "metadata": {
        "id": "8gJtg2Tpr3iM",
        "outputId": "7fa63297-a01f-44a7-ac22-08c00523a8a2",
        "colab": {
          "base_uri": "https://localhost:8080/",
          "height": 68
        }
      },
      "source": [
        "print(df_ca['Wind_Speed(mph)'].mean())\n",
        "print(df_ca['Wind_Speed(mph)'].min())\n",
        "print(df_ca['Wind_Speed(mph)'].max())\n",
        "\n",
        "mean_wind_speed = df_ca['Wind_Speed(mph)'].mean()\n",
        "\n",
        "df_ca['Wind_Speed(mph)'].fillna(mean_wind_speed, inplace=True)"
      ],
      "execution_count": 37,
      "outputs": [
        {
          "output_type": "stream",
          "text": [
            "7.082237999804087\n",
            "0.0\n",
            "25.0\n"
          ],
          "name": "stdout"
        }
      ]
    },
    {
      "cell_type": "code",
      "metadata": {
        "id": "I_-Hr00-qX3D",
        "outputId": "7eb1af16-357c-4bed-8717-6c08848797c4",
        "colab": {
          "base_uri": "https://localhost:8080/",
          "height": 119
        }
      },
      "source": [
        "df_ca.isna().sum()"
      ],
      "execution_count": 38,
      "outputs": [
        {
          "output_type": "execute_result",
          "data": {
            "text/plain": [
              "Temperature(F)        0\n",
              "Humidity(%)           0\n",
              "Pressure(in)          0\n",
              "Visibility(mi)     2028\n",
              "Wind_Speed(mph)       0\n",
              "dtype: int64"
            ]
          },
          "metadata": {
            "tags": []
          },
          "execution_count": 38
        }
      ]
    },
    {
      "cell_type": "code",
      "metadata": {
        "id": "gUKzNUuYfpdQ",
        "outputId": "7ca71a83-56f7-4832-a09e-d0b2d28505d2",
        "colab": {
          "base_uri": "https://localhost:8080/",
          "height": 68
        }
      },
      "source": [
        "print(df_ca['Visibility(mi)'].mean())\n",
        "print(df_ca['Visibility(mi)'].min())\n",
        "print(df_ca['Visibility(mi)'].max())"
      ],
      "execution_count": 39,
      "outputs": [
        {
          "output_type": "stream",
          "text": [
            "9.13587763436156\n",
            "0.0\n",
            "100.0\n"
          ],
          "name": "stdout"
        }
      ]
    },
    {
      "cell_type": "code",
      "metadata": {
        "id": "Huy5gfyTQk13",
        "outputId": "6587f270-215b-4df0-de48-152bae2ac761",
        "colab": {
          "base_uri": "https://localhost:8080/",
          "height": 350
        }
      },
      "source": [
        "sns.boxplot(df_ca['Visibility(mi)'])"
      ],
      "execution_count": 40,
      "outputs": [
        {
          "output_type": "stream",
          "text": [
            "/usr/local/lib/python3.6/dist-packages/seaborn/_decorators.py:43: FutureWarning: Pass the following variable as a keyword arg: x. From version 0.12, the only valid positional argument will be `data`, and passing other arguments without an explicit keyword will result in an error or misinterpretation.\n",
            "  FutureWarning\n"
          ],
          "name": "stderr"
        },
        {
          "output_type": "execute_result",
          "data": {
            "text/plain": [
              "<matplotlib.axes._subplots.AxesSubplot at 0x7f221ba91198>"
            ]
          },
          "metadata": {
            "tags": []
          },
          "execution_count": 40
        },
        {
          "output_type": "display_data",
          "data": {
            "image/png": "[encoded data removed]",
            "text/plain": [
              "<Figure size 432x288 with 1 Axes>"
            ]
          },
          "metadata": {
            "tags": [],
            "needs_background": "light"
          }
        }
      ]
    },
    {
      "cell_type": "code",
      "metadata": {
        "id": "gp-Uhv4YsZwD"
      },
      "source": [
        "df_ca.drop(df_ca[df_ca['Visibility(mi)'] > 25].index, inplace=True)"
      ],
      "execution_count": 41,
      "outputs": []
    },
    {
      "cell_type": "code",
      "metadata": {
        "id": "iagP_BapQsnJ",
        "outputId": "fbff7648-c71c-4172-9f53-44560a3caf97",
        "colab": {
          "base_uri": "https://localhost:8080/",
          "height": 34
        }
      },
      "source": [
        "df_ca[df_ca['Visibility(mi)'] < 8].shape"
      ],
      "execution_count": 42,
      "outputs": [
        {
          "output_type": "execute_result",
          "data": {
            "text/plain": [
              "(14101, 5)"
            ]
          },
          "metadata": {
            "tags": []
          },
          "execution_count": 42
        }
      ]
    },
    {
      "cell_type": "markdown",
      "metadata": {
        "id": "0yHWZO3IQ38i"
      },
      "source": [
        "We can see from the boxplot that we have a lot of values that is above, the box (line), so in this case we will keep the values and then just fill the nan with a the mean. "
      ]
    },
    {
      "cell_type": "code",
      "metadata": {
        "id": "WPjTcbFWgCe9",
        "outputId": "9fd0150a-ebb3-460d-925a-71547e78cdbc",
        "colab": {
          "base_uri": "https://localhost:8080/",
          "height": 34
        }
      },
      "source": [
        "median_visibility = df['Visibility(mi)'].median()\n",
        "median_visibility"
      ],
      "execution_count": 43,
      "outputs": [
        {
          "output_type": "execute_result",
          "data": {
            "text/plain": [
              "10.0"
            ]
          },
          "metadata": {
            "tags": []
          },
          "execution_count": 43
        }
      ]
    },
    {
      "cell_type": "code",
      "metadata": {
        "id": "9jmkL6UIgLkM"
      },
      "source": [
        "#Fillna with mean value in column. \n",
        "df_ca.loc[:, \"Visibility(mi)\"].fillna(median_visibility, inplace=True)"
      ],
      "execution_count": 44,
      "outputs": []
    },
    {
      "cell_type": "markdown",
      "metadata": {
        "id": "H1ke1Em-RekV"
      },
      "source": [
        "The majority of our values in Visibility(mi) is 10.0. "
      ]
    },
    {
      "cell_type": "code",
      "metadata": {
        "id": "9PyepN9UiBs1",
        "outputId": "05cc10b0-5636-4f88-da94-a1427667511d",
        "colab": {
          "base_uri": "https://localhost:8080/",
          "height": 136
        }
      },
      "source": [
        "print(df_ca['Visibility(mi)'].value_counts()[:5])"
      ],
      "execution_count": 45,
      "outputs": [
        {
          "output_type": "stream",
          "text": [
            "10.0    77549\n",
            "7.0      3514\n",
            "9.0      3501\n",
            "8.0      2792\n",
            "6.0      2273\n",
            "5.0      2151\n",
            "Name: Visibility(mi), dtype: int64\n"
          ],
          "name": "stdout"
        }
      ]
    },
    {
      "cell_type": "code",
      "metadata": {
        "id": "rS16kxtnmY4C",
        "outputId": "5e40a4b1-0546-472a-8232-58be9f739d31",
        "colab": {
          "base_uri": "https://localhost:8080/",
          "height": 119
        }
      },
      "source": [
        "df_ca.isna().sum()"
      ],
      "execution_count": 46,
      "outputs": [
        {
          "output_type": "execute_result",
          "data": {
            "text/plain": [
              "Temperature(F)     0\n",
              "Humidity(%)        0\n",
              "Pressure(in)       0\n",
              "Visibility(mi)     0\n",
              "Wind_Speed(mph)    0\n",
              "dtype: int64"
            ]
          },
          "metadata": {
            "tags": []
          },
          "execution_count": 46
        }
      ]
    },
    {
      "cell_type": "code",
      "metadata": {
        "id": "9aXBJX6-mhGC",
        "outputId": "59cbb6c4-4d27-4d85-9037-3d05b11b15ff",
        "colab": {
          "base_uri": "https://localhost:8080/",
          "height": 34
        }
      },
      "source": [
        "df_ca.shape"
      ],
      "execution_count": 47,
      "outputs": [
        {
          "output_type": "execute_result",
          "data": {
            "text/plain": [
              "(97964, 5)"
            ]
          },
          "metadata": {
            "tags": []
          },
          "execution_count": 47
        }
      ]
    },
    {
      "cell_type": "markdown",
      "metadata": {
        "id": "4xuFXD4tKVoL"
      },
      "source": [
        "## Utforska och visualisera data (descriptiv statistics)\n",
        "Producera statistik från ert dataset. Utforska data genom att använda visualiering, och demonstrera att ni behörskar ett antal olika sätt att visualisera data i grafiskt form. Minst ett histogram och ett spridningsdiagram ska uppvisas i denna del för full poäng. (20 poäng)."
      ]
    },
    {
      "cell_type": "markdown",
      "metadata": {
        "id": "bQVvIeWgQnvP"
      },
      "source": [
        "Check for inbalance: "
      ]
    },
    {
      "cell_type": "code",
      "metadata": {
        "id": "jw4PgmAAKVoP"
      },
      "source": [
        "# Kod för descriptiv statistik här."
      ],
      "execution_count": 48,
      "outputs": []
    },
    {
      "cell_type": "code",
      "metadata": {
        "id": "U4niD142W4CX",
        "outputId": "298299d0-0ac5-4abd-94ec-a877ea2dccef",
        "colab": {
          "base_uri": "https://localhost:8080/",
          "height": 282
        }
      },
      "source": [
        "plt.scatter(x=df_ca['Temperature(F)'][:100], y=df_ca['Humidity(%)'][:100])"
      ],
      "execution_count": 49,
      "outputs": [
        {
          "output_type": "execute_result",
          "data": {
            "text/plain": [
              "<matplotlib.collections.PathCollection at 0x7f221ba0f278>"
            ]
          },
          "metadata": {
            "tags": []
          },
          "execution_count": 49
        },
        {
          "output_type": "display_data",
          "data": {
            "image/png": "[encoded data removed]",
            "text/plain": [
              "<Figure size 432x288 with 1 Axes>"
            ]
          },
          "metadata": {
            "tags": [],
            "needs_background": "light"
          }
        }
      ]
    },
    {
      "cell_type": "code",
      "metadata": {
        "id": "7osjI2FqYNUj"
      },
      "source": [
        "#Create an empty list to append values based on for loop.\n",
        "temp_group = []\n",
        "\n",
        "for value in df_ca['Temperature(F)']: \n",
        "\n",
        "  \"\"\"\n",
        "  For every row in Temp-column. \n",
        "  Check temp and append value to the \n",
        "  empty list. \n",
        "\n",
        "  \"\"\"\n",
        "\n",
        "  if value <= 10: \n",
        "    temp_group.append(\"0-10\")\n",
        "  elif value > 10 and value <= 20: \n",
        "    temp_group.append(\"10-20\")\n",
        "  elif value > 20 and value < 30: \n",
        "    temp_group.append(\"20-30\")\n",
        "  elif value > 30 and value <= 40: \n",
        "    temp_group.append(\"30-40\")\n",
        "  elif value > 40 and value < 50: \n",
        "    temp_group.append(\"40-50\")\n",
        "  elif value > 50 and value <= 60: \n",
        "    temp_group.append(\"50-60\")\n",
        "  elif value > 60 and value < 70: \n",
        "    temp_group.append(\"60-70\")\n",
        "  elif value > 70 and value <= 80: \n",
        "    temp_group.append(\"70-80\")\n",
        "  elif value > 80 and value < 90: \n",
        "    temp_group.append(\"80-90\")\n",
        "  else: \n",
        "    temp_group.append(\"90-100\")\n",
        "\n"
      ],
      "execution_count": 50,
      "outputs": []
    },
    {
      "cell_type": "code",
      "metadata": {
        "id": "SbhOGeCGa63Y"
      },
      "source": [
        "#Convert the list to a pandas Series. \n",
        "s_temp_group = pd.Series(temp_group)"
      ],
      "execution_count": 51,
      "outputs": []
    },
    {
      "cell_type": "code",
      "metadata": {
        "id": "_Iw6ZsWofZWg",
        "outputId": "09e00ada-8789-4a5d-b663-de6b313c393b",
        "colab": {
          "base_uri": "https://localhost:8080/",
          "height": 307
        }
      },
      "source": [
        "#Count the elements in the list and barplot the result. \n",
        "s_temp_group.value_counts().plot(kind='bar')"
      ],
      "execution_count": 52,
      "outputs": [
        {
          "output_type": "execute_result",
          "data": {
            "text/plain": [
              "<matplotlib.axes._subplots.AxesSubplot at 0x7f221b9821d0>"
            ]
          },
          "metadata": {
            "tags": []
          },
          "execution_count": 52
        },
        {
          "output_type": "display_data",
          "data": {
            "image/png": "[encoded data removed]",
            "text/plain": [
              "<Figure size 432x288 with 1 Axes>"
            ]
          },
          "metadata": {
            "tags": [],
            "needs_background": "light"
          }
        }
      ]
    },
    {
      "cell_type": "markdown",
      "metadata": {
        "id": "CQA-nLmJfhZG"
      },
      "source": [
        "We have grouped the values in the temperature column and displayed them above. \n",
        "The temperature between 60-70 Fahrenheit is the most common among our rows in the dataset. We could see this before when we assigned the missing values with the mean of the column, which was in that range. "
      ]
    },
    {
      "cell_type": "code",
      "metadata": {
        "id": "vM5RKEQSgl9Y"
      },
      "source": [
        "windspeed_group = []\n",
        "\n",
        "for value in df_ca['Wind_Speed(mph)']: \n",
        "\n",
        "  if value <= 5: \n",
        "    windspeed_group.append(\"0-5\")\n",
        "  elif value > 5 and value <= 10: \n",
        "    windspeed_group.append(\"5-10\")\n",
        "  elif value > 10 and value <= 15: \n",
        "    windspeed_group.append(\"10-15\")\n",
        "  elif value > 15 and value <= 20: \n",
        "    windspeed_group.append(\"15-20\")\n",
        "  else: \n",
        "    windspeed_group.append(\"20+\")"
      ],
      "execution_count": 53,
      "outputs": []
    },
    {
      "cell_type": "code",
      "metadata": {
        "id": "_cgPssR6hbTC",
        "outputId": "a38d11fe-aac5-47f0-85eb-7d29029b3be2",
        "colab": {
          "base_uri": "https://localhost:8080/",
          "height": 303
        }
      },
      "source": [
        "windspeed_series = pd.Series(windspeed_group)\n",
        "\n",
        "windspeed_series.value_counts().plot(kind='bar')"
      ],
      "execution_count": 54,
      "outputs": [
        {
          "output_type": "execute_result",
          "data": {
            "text/plain": [
              "<matplotlib.axes._subplots.AxesSubplot at 0x7f221b8eb9b0>"
            ]
          },
          "metadata": {
            "tags": []
          },
          "execution_count": 54
        },
        {
          "output_type": "display_data",
          "data": {
            "image/png": "[encoded data removed]",
            "text/plain": [
              "<Figure size 432x288 with 1 Axes>"
            ]
          },
          "metadata": {
            "tags": [],
            "needs_background": "light"
          }
        }
      ]
    },
    {
      "cell_type": "code",
      "metadata": {
        "id": "Sre81d1Ji5a7",
        "outputId": "762a18fa-8c80-44ee-c20d-3a8622f1c494",
        "colab": {
          "base_uri": "https://localhost:8080/",
          "height": 119
        }
      },
      "source": [
        "windspeed_series.value_counts(normalize=True)"
      ],
      "execution_count": 55,
      "outputs": [
        {
          "output_type": "execute_result",
          "data": {
            "text/plain": [
              "5-10     0.491058\n",
              "0-5      0.318627\n",
              "10-15    0.146676\n",
              "15-20    0.034257\n",
              "20+      0.009381\n",
              "dtype: float64"
            ]
          },
          "metadata": {
            "tags": []
          },
          "execution_count": 55
        }
      ]
    },
    {
      "cell_type": "markdown",
      "metadata": {
        "id": "vimRJ3NMiuW9"
      },
      "source": [
        "We can see from the barchart above that the majority of the values is between 5-10, about 49%. "
      ]
    },
    {
      "cell_type": "code",
      "metadata": {
        "id": "0h3qNLeJhosU",
        "outputId": "b9fdb36a-59e1-4c37-f97a-6638bac4a05c",
        "colab": {
          "base_uri": "https://localhost:8080/",
          "height": 68
        }
      },
      "source": [
        "visi_group = []\n",
        "\n",
        "for value in df_ca['Visibility(mi)']:\n",
        "\n",
        "  if value <= 20: \n",
        "    visi_group.append(\"0-20\")\n",
        "  elif value > 20 and value <= 40:\n",
        "    visi_group.append(\"20-40\") \n",
        "  elif value > 40 and value <= 60: \n",
        "    visi_group.append(\"40-60\")\n",
        "  elif value > 60 and value <= 80: \n",
        "    visi_group.append(\"60-80\")\n",
        "  else: \n",
        "    visi_group.append(\"80+\")\n",
        "\n",
        "visi_series = pd.Series(visi_group)\n",
        "\n",
        "visi_series.value_counts()"
      ],
      "execution_count": 56,
      "outputs": [
        {
          "output_type": "execute_result",
          "data": {
            "text/plain": [
              "0-20     97948\n",
              "20-40       16\n",
              "dtype: int64"
            ]
          },
          "metadata": {
            "tags": []
          },
          "execution_count": 56
        }
      ]
    },
    {
      "cell_type": "code",
      "metadata": {
        "id": "oB8w-MXrikk9",
        "outputId": "816540cd-d7e0-4f8c-9728-a68abd0676ef",
        "colab": {
          "base_uri": "https://localhost:8080/",
          "height": 301
        }
      },
      "source": [
        "visi_series.value_counts(normalize=True).plot(kind='bar')"
      ],
      "execution_count": 57,
      "outputs": [
        {
          "output_type": "execute_result",
          "data": {
            "text/plain": [
              "<matplotlib.axes._subplots.AxesSubplot at 0x7f221b9addd8>"
            ]
          },
          "metadata": {
            "tags": []
          },
          "execution_count": 57
        },
        {
          "output_type": "display_data",
          "data": {
            "image/png": "[encoded data removed]",
            "text/plain": [
              "<Figure size 432x288 with 1 Axes>"
            ]
          },
          "metadata": {
            "tags": [],
            "needs_background": "light"
          }
        }
      ]
    },
    {
      "cell_type": "code",
      "metadata": {
        "id": "UW9gJiGtRVY_",
        "outputId": "1ca893f5-9103-495f-93f3-77a9b297afea",
        "colab": {
          "base_uri": "https://localhost:8080/",
          "height": 204
        }
      },
      "source": [
        "df_ca.corr()"
      ],
      "execution_count": 58,
      "outputs": [
        {
          "output_type": "execute_result",
          "data": {
            "text/html": [
              "<div>\n",
              "<style scoped>\n",
              "    .dataframe tbody tr th:only-of-type {\n",
              "        vertical-align: middle;\n",
              "    }\n",
              "\n",
              "    .dataframe tbody tr th {\n",
              "        vertical-align: top;\n",
              "    }\n",
              "\n",
              "    .dataframe thead th {\n",
              "        text-align: right;\n",
              "    }\n",
              "</style>\n",
              "<table border=\"1\" class=\"dataframe\">\n",
              "  <thead>\n",
              "    <tr style=\"text-align: right;\">\n",
              "      <th></th>\n",
              "      <th>Temperature(F)</th>\n",
              "      <th>Humidity(%)</th>\n",
              "      <th>Pressure(in)</th>\n",
              "      <th>Visibility(mi)</th>\n",
              "      <th>Wind_Speed(mph)</th>\n",
              "    </tr>\n",
              "  </thead>\n",
              "  <tbody>\n",
              "    <tr>\n",
              "      <th>Temperature(F)</th>\n",
              "      <td>1.000000</td>\n",
              "      <td>-0.651541</td>\n",
              "      <td>-0.076064</td>\n",
              "      <td>0.235530</td>\n",
              "      <td>0.196060</td>\n",
              "    </tr>\n",
              "    <tr>\n",
              "      <th>Humidity(%)</th>\n",
              "      <td>-0.651541</td>\n",
              "      <td>1.000000</td>\n",
              "      <td>0.106880</td>\n",
              "      <td>-0.382490</td>\n",
              "      <td>-0.171454</td>\n",
              "    </tr>\n",
              "    <tr>\n",
              "      <th>Pressure(in)</th>\n",
              "      <td>-0.076064</td>\n",
              "      <td>0.106880</td>\n",
              "      <td>1.000000</td>\n",
              "      <td>0.022819</td>\n",
              "      <td>0.042697</td>\n",
              "    </tr>\n",
              "    <tr>\n",
              "      <th>Visibility(mi)</th>\n",
              "      <td>0.235530</td>\n",
              "      <td>-0.382490</td>\n",
              "      <td>0.022819</td>\n",
              "      <td>1.000000</td>\n",
              "      <td>0.083925</td>\n",
              "    </tr>\n",
              "    <tr>\n",
              "      <th>Wind_Speed(mph)</th>\n",
              "      <td>0.196060</td>\n",
              "      <td>-0.171454</td>\n",
              "      <td>0.042697</td>\n",
              "      <td>0.083925</td>\n",
              "      <td>1.000000</td>\n",
              "    </tr>\n",
              "  </tbody>\n",
              "</table>\n",
              "</div>"
            ],
            "text/plain": [
              "                 Temperature(F)  Humidity(%)  ...  Visibility(mi)  Wind_Speed(mph)\n",
              "Temperature(F)         1.000000    -0.651541  ...        0.235530         0.196060\n",
              "Humidity(%)           -0.651541     1.000000  ...       -0.382490        -0.171454\n",
              "Pressure(in)          -0.076064     0.106880  ...        0.022819         0.042697\n",
              "Visibility(mi)         0.235530    -0.382490  ...        1.000000         0.083925\n",
              "Wind_Speed(mph)        0.196060    -0.171454  ...        0.083925         1.000000\n",
              "\n",
              "[5 rows x 5 columns]"
            ]
          },
          "metadata": {
            "tags": []
          },
          "execution_count": 58
        }
      ]
    },
    {
      "cell_type": "markdown",
      "metadata": {
        "id": "xsK1VSzXKVoe"
      },
      "source": [
        "## Modellering\n",
        "\n",
        "Skapa modeller från ert dataset. Testa och träna. Minst två modeller per fråga, alltså 4 modeller totalt. (20 poäng)"
      ]
    },
    {
      "cell_type": "code",
      "metadata": {
        "id": "0b3KHIEzfoX7",
        "outputId": "552ff0df-f0a0-4a75-8466-6c084402d030",
        "colab": {
          "base_uri": "https://localhost:8080/",
          "height": 204
        }
      },
      "source": [
        "df_ca.head()"
      ],
      "execution_count": 59,
      "outputs": [
        {
          "output_type": "execute_result",
          "data": {
            "text/html": [
              "<div>\n",
              "<style scoped>\n",
              "    .dataframe tbody tr th:only-of-type {\n",
              "        vertical-align: middle;\n",
              "    }\n",
              "\n",
              "    .dataframe tbody tr th {\n",
              "        vertical-align: top;\n",
              "    }\n",
              "\n",
              "    .dataframe thead th {\n",
              "        text-align: right;\n",
              "    }\n",
              "</style>\n",
              "<table border=\"1\" class=\"dataframe\">\n",
              "  <thead>\n",
              "    <tr style=\"text-align: right;\">\n",
              "      <th></th>\n",
              "      <th>Temperature(F)</th>\n",
              "      <th>Humidity(%)</th>\n",
              "      <th>Pressure(in)</th>\n",
              "      <th>Visibility(mi)</th>\n",
              "      <th>Wind_Speed(mph)</th>\n",
              "    </tr>\n",
              "  </thead>\n",
              "  <tbody>\n",
              "    <tr>\n",
              "      <th>3200930</th>\n",
              "      <td>53.1</td>\n",
              "      <td>80.0</td>\n",
              "      <td>29.98</td>\n",
              "      <td>10.0</td>\n",
              "      <td>11.5</td>\n",
              "    </tr>\n",
              "    <tr>\n",
              "      <th>3076186</th>\n",
              "      <td>81.0</td>\n",
              "      <td>9.0</td>\n",
              "      <td>28.46</td>\n",
              "      <td>10.0</td>\n",
              "      <td>3.0</td>\n",
              "    </tr>\n",
              "    <tr>\n",
              "      <th>2655687</th>\n",
              "      <td>53.6</td>\n",
              "      <td>77.0</td>\n",
              "      <td>30.00</td>\n",
              "      <td>10.0</td>\n",
              "      <td>15.0</td>\n",
              "    </tr>\n",
              "    <tr>\n",
              "      <th>3099480</th>\n",
              "      <td>49.0</td>\n",
              "      <td>19.0</td>\n",
              "      <td>29.72</td>\n",
              "      <td>10.0</td>\n",
              "      <td>10.0</td>\n",
              "    </tr>\n",
              "    <tr>\n",
              "      <th>955010</th>\n",
              "      <td>71.0</td>\n",
              "      <td>81.0</td>\n",
              "      <td>29.84</td>\n",
              "      <td>9.0</td>\n",
              "      <td>0.0</td>\n",
              "    </tr>\n",
              "  </tbody>\n",
              "</table>\n",
              "</div>"
            ],
            "text/plain": [
              "         Temperature(F)  Humidity(%)  ...  Visibility(mi)  Wind_Speed(mph)\n",
              "3200930            53.1         80.0  ...            10.0             11.5\n",
              "3076186            81.0          9.0  ...            10.0              3.0\n",
              "2655687            53.6         77.0  ...            10.0             15.0\n",
              "3099480            49.0         19.0  ...            10.0             10.0\n",
              "955010             71.0         81.0  ...             9.0              0.0\n",
              "\n",
              "[5 rows x 5 columns]"
            ]
          },
          "metadata": {
            "tags": []
          },
          "execution_count": 59
        }
      ]
    },
    {
      "cell_type": "code",
      "metadata": {
        "id": "1fCaS_g6A-wY",
        "outputId": "48c6aa2c-a623-42d4-8cc9-bafaf2fc13bf",
        "colab": {
          "base_uri": "https://localhost:8080/",
          "height": 221
        }
      },
      "source": [
        "df_ca.info()"
      ],
      "execution_count": 60,
      "outputs": [
        {
          "output_type": "stream",
          "text": [
            "<class 'pandas.core.frame.DataFrame'>\n",
            "Int64Index: 97964 entries, 3200930 to 1539750\n",
            "Data columns (total 5 columns):\n",
            " #   Column           Non-Null Count  Dtype  \n",
            "---  ------           --------------  -----  \n",
            " 0   Temperature(F)   97964 non-null  float64\n",
            " 1   Humidity(%)      97964 non-null  float64\n",
            " 2   Pressure(in)     97964 non-null  float64\n",
            " 3   Visibility(mi)   97964 non-null  float64\n",
            " 4   Wind_Speed(mph)  97964 non-null  float64\n",
            "dtypes: float64(5)\n",
            "memory usage: 4.5 MB\n"
          ],
          "name": "stdout"
        }
      ]
    },
    {
      "cell_type": "markdown",
      "metadata": {
        "id": "EjT-GVq97VD7"
      },
      "source": [
        "### Check for skewness in dataset\n",
        "\n",
        "It's important to handle skewness in the dataset when we want to perform clustering. "
      ]
    },
    {
      "cell_type": "code",
      "metadata": {
        "id": "wyjzEJJPLkx7",
        "outputId": "67e1e872-16c8-426f-b569-315c27eea2eb",
        "colab": {
          "base_uri": "https://localhost:8080/",
          "height": 491
        }
      },
      "source": [
        "fig, ax = plt.subplots(1, 3, figsize=(15,5))\n",
        "sns.distplot(df_ca['Temperature(F)'], ax=ax[0])\n",
        "sns.distplot(df_ca['Humidity(%)'], ax=ax[1])\n",
        "sns.distplot(df_ca['Pressure(in)'], ax=ax[2])\n",
        "plt.tight_layout()\n",
        "plt.show()"
      ],
      "execution_count": 61,
      "outputs": [
        {
          "output_type": "stream",
          "text": [
            "/usr/local/lib/python3.6/dist-packages/seaborn/distributions.py:2551: FutureWarning: `distplot` is a deprecated function and will be removed in a future version. Please adapt your code to use either `displot` (a figure-level function with similar flexibility) or `histplot` (an axes-level function for histograms).\n",
            "  warnings.warn(msg, FutureWarning)\n",
            "/usr/local/lib/python3.6/dist-packages/seaborn/distributions.py:2551: FutureWarning: `distplot` is a deprecated function and will be removed in a future version. Please adapt your code to use either `displot` (a figure-level function with similar flexibility) or `histplot` (an axes-level function for histograms).\n",
            "  warnings.warn(msg, FutureWarning)\n",
            "/usr/local/lib/python3.6/dist-packages/seaborn/distributions.py:2551: FutureWarning: `distplot` is a deprecated function and will be removed in a future version. Please adapt your code to use either `displot` (a figure-level function with similar flexibility) or `histplot` (an axes-level function for histograms).\n",
            "  warnings.warn(msg, FutureWarning)\n"
          ],
          "name": "stderr"
        },
        {
          "output_type": "display_data",
          "data": {
            "image/png": "[encoded data removed]",
            "text/plain": [
              "<Figure size 1080x360 with 3 Axes>"
            ]
          },
          "metadata": {
            "tags": [],
            "needs_background": "light"
          }
        }
      ]
    },
    {
      "cell_type": "code",
      "metadata": {
        "id": "TLP0Kwh6NHHW",
        "outputId": "446d82a8-f03c-4073-d2bd-30e41bfb752e",
        "colab": {
          "base_uri": "https://localhost:8080/",
          "height": 457
        }
      },
      "source": [
        "fig, ax = plt.subplots(1, 2, figsize=(15,5))\n",
        "sns.distplot(df_ca['Visibility(mi)'], ax=ax[0])\n",
        "sns.distplot(df_ca['Wind_Speed(mph)'], ax=ax[1])\n",
        "plt.tight_layout()\n",
        "plt.show()"
      ],
      "execution_count": 62,
      "outputs": [
        {
          "output_type": "stream",
          "text": [
            "/usr/local/lib/python3.6/dist-packages/seaborn/distributions.py:2551: FutureWarning: `distplot` is a deprecated function and will be removed in a future version. Please adapt your code to use either `displot` (a figure-level function with similar flexibility) or `histplot` (an axes-level function for histograms).\n",
            "  warnings.warn(msg, FutureWarning)\n",
            "/usr/local/lib/python3.6/dist-packages/seaborn/distributions.py:2551: FutureWarning: `distplot` is a deprecated function and will be removed in a future version. Please adapt your code to use either `displot` (a figure-level function with similar flexibility) or `histplot` (an axes-level function for histograms).\n",
            "  warnings.warn(msg, FutureWarning)\n"
          ],
          "name": "stderr"
        },
        {
          "output_type": "display_data",
          "data": {
            "image/png": "[encoded data removed]",
            "text/plain": [
              "<Figure size 1080x360 with 2 Axes>"
            ]
          },
          "metadata": {
            "tags": [],
            "needs_background": "light"
          }
        }
      ]
    },
    {
      "cell_type": "code",
      "metadata": {
        "id": "I9kjRtLhMh73",
        "outputId": "1684b8b4-2237-4819-823d-62a25eaedff9",
        "colab": {
          "base_uri": "https://localhost:8080/",
          "height": 119
        }
      },
      "source": [
        "df_ca.skew()"
      ],
      "execution_count": 63,
      "outputs": [
        {
          "output_type": "execute_result",
          "data": {
            "text/plain": [
              "Temperature(F)     0.220976\n",
              "Humidity(%)       -0.334834\n",
              "Pressure(in)      -4.069688\n",
              "Visibility(mi)    -2.424132\n",
              "Wind_Speed(mph)    0.699804\n",
              "dtype: float64"
            ]
          },
          "metadata": {
            "tags": []
          },
          "execution_count": 63
        }
      ]
    },
    {
      "cell_type": "code",
      "metadata": {
        "id": "OTXwDD4uOGia",
        "outputId": "ee6aae53-d1c5-4d12-96b9-9410597d6be2",
        "colab": {
          "base_uri": "https://localhost:8080/",
          "height": 34
        }
      },
      "source": [
        "df_ca['Wind_Speed(mph)'].max()"
      ],
      "execution_count": 64,
      "outputs": [
        {
          "output_type": "execute_result",
          "data": {
            "text/plain": [
              "25.0"
            ]
          },
          "metadata": {
            "tags": []
          },
          "execution_count": 64
        }
      ]
    },
    {
      "cell_type": "code",
      "metadata": {
        "id": "5ct7LHfkM_Fg"
      },
      "source": [
        "from scipy import stats\n",
        "df_fix = pd.DataFrame() \n",
        "df_fix['Temperature(F)'] = stats.boxcox(df_ca['Temperature(F)'])[0]\n",
        "df_fix['iHumidity(%)'] = stats.boxcox(df_ca['Humidity(%)'])[0]\n",
        "df_fix['Pressure(in)'] = stats.boxcox(df_ca['Pressure(in)'])[0]\n",
        "df_fix['Visibility(mi)'] = pd.Series(np.cbrt(df_ca['Visibility(mi)'])).values\n",
        "df_fix['Wind_Speed(mph)'] = df_ca['Wind_Speed(mph)']"
      ],
      "execution_count": 65,
      "outputs": []
    },
    {
      "cell_type": "code",
      "metadata": {
        "id": "iDDmsIfjQJw6",
        "outputId": "be68c909-31ba-4747-80c9-5262a484009f",
        "colab": {
          "base_uri": "https://localhost:8080/",
          "height": 204
        }
      },
      "source": [
        "df_fix.tail()"
      ],
      "execution_count": 66,
      "outputs": [
        {
          "output_type": "execute_result",
          "data": {
            "text/html": [
              "<div>\n",
              "<style scoped>\n",
              "    .dataframe tbody tr th:only-of-type {\n",
              "        vertical-align: middle;\n",
              "    }\n",
              "\n",
              "    .dataframe tbody tr th {\n",
              "        vertical-align: top;\n",
              "    }\n",
              "\n",
              "    .dataframe thead th {\n",
              "        text-align: right;\n",
              "    }\n",
              "</style>\n",
              "<table border=\"1\" class=\"dataframe\">\n",
              "  <thead>\n",
              "    <tr style=\"text-align: right;\">\n",
              "      <th></th>\n",
              "      <th>Temperature(F)</th>\n",
              "      <th>iHumidity(%)</th>\n",
              "      <th>Pressure(in)</th>\n",
              "      <th>Visibility(mi)</th>\n",
              "      <th>Wind_Speed(mph)</th>\n",
              "    </tr>\n",
              "  </thead>\n",
              "  <tbody>\n",
              "    <tr>\n",
              "      <th>97959</th>\n",
              "      <td>16.161013</td>\n",
              "      <td>146.856303</td>\n",
              "      <td>2.392989e+78</td>\n",
              "      <td>2.154435</td>\n",
              "      <td>NaN</td>\n",
              "    </tr>\n",
              "    <tr>\n",
              "      <th>97960</th>\n",
              "      <td>11.978539</td>\n",
              "      <td>174.144272</td>\n",
              "      <td>2.308484e+78</td>\n",
              "      <td>1.442250</td>\n",
              "      <td>NaN</td>\n",
              "    </tr>\n",
              "    <tr>\n",
              "      <th>97961</th>\n",
              "      <td>18.471746</td>\n",
              "      <td>60.416582</td>\n",
              "      <td>1.826352e+78</td>\n",
              "      <td>2.154435</td>\n",
              "      <td>NaN</td>\n",
              "    </tr>\n",
              "    <tr>\n",
              "      <th>97962</th>\n",
              "      <td>15.099074</td>\n",
              "      <td>140.654929</td>\n",
              "      <td>1.729987e+78</td>\n",
              "      <td>2.154435</td>\n",
              "      <td>NaN</td>\n",
              "    </tr>\n",
              "    <tr>\n",
              "      <th>97963</th>\n",
              "      <td>12.396696</td>\n",
              "      <td>73.410474</td>\n",
              "      <td>2.308484e+78</td>\n",
              "      <td>2.154435</td>\n",
              "      <td>NaN</td>\n",
              "    </tr>\n",
              "  </tbody>\n",
              "</table>\n",
              "</div>"
            ],
            "text/plain": [
              "       Temperature(F)  iHumidity(%)  ...  Visibility(mi)  Wind_Speed(mph)\n",
              "97959       16.161013    146.856303  ...        2.154435              NaN\n",
              "97960       11.978539    174.144272  ...        1.442250              NaN\n",
              "97961       18.471746     60.416582  ...        2.154435              NaN\n",
              "97962       15.099074    140.654929  ...        2.154435              NaN\n",
              "97963       12.396696     73.410474  ...        2.154435              NaN\n",
              "\n",
              "[5 rows x 5 columns]"
            ]
          },
          "metadata": {
            "tags": []
          },
          "execution_count": 66
        }
      ]
    },
    {
      "cell_type": "code",
      "metadata": {
        "id": "5dHGHPlOQzkV",
        "outputId": "913faa71-a87f-4afc-914e-ccbf5dd4f158",
        "colab": {
          "base_uri": "https://localhost:8080/",
          "height": 119
        }
      },
      "source": [
        "#Doublecheck the missing values.\n",
        "df_fix.isna().sum()"
      ],
      "execution_count": 67,
      "outputs": [
        {
          "output_type": "execute_result",
          "data": {
            "text/plain": [
              "Temperature(F)         0\n",
              "iHumidity(%)           0\n",
              "Pressure(in)           0\n",
              "Visibility(mi)         0\n",
              "Wind_Speed(mph)    86292\n",
              "dtype: int64"
            ]
          },
          "metadata": {
            "tags": []
          },
          "execution_count": 67
        }
      ]
    },
    {
      "cell_type": "code",
      "metadata": {
        "id": "C5Gv2LhSQglE",
        "outputId": "436cba0d-45de-466d-bfe6-c8a3d59302e4",
        "colab": {
          "base_uri": "https://localhost:8080/",
          "height": 119
        }
      },
      "source": [
        "#Explore skewness in dataset.\n",
        "df_fix.skew()"
      ],
      "execution_count": 68,
      "outputs": [
        {
          "output_type": "execute_result",
          "data": {
            "text/plain": [
              "Temperature(F)    -0.001486\n",
              "iHumidity(%)      -0.204258\n",
              "Pressure(in)      -0.137581\n",
              "Visibility(mi)    -3.595235\n",
              "Wind_Speed(mph)    1.390410\n",
              "dtype: float64"
            ]
          },
          "metadata": {
            "tags": []
          },
          "execution_count": 68
        }
      ]
    },
    {
      "cell_type": "code",
      "metadata": {
        "id": "V-EfPPSVUsW1"
      },
      "source": [
        "df_fix['Wind_Speed(mph)'].fillna(df_fix['Wind_Speed(mph)'].mean(), inplace=True)"
      ],
      "execution_count": 69,
      "outputs": []
    },
    {
      "cell_type": "code",
      "metadata": {
        "id": "GVBftQ2hPUR0",
        "outputId": "04804bbd-6696-4263-9b51-94af442acc38",
        "colab": {
          "base_uri": "https://localhost:8080/",
          "height": 51
        }
      },
      "source": [
        "from sklearn.preprocessing import StandardScaler \n",
        "\n",
        "scaler = StandardScaler()\n",
        "scaler.fit(df_fix)\n",
        "df_normalized = scaler.fit_transform(df_fix)\n",
        "print(df_normalized.mean(axis = 0).round(2))\n",
        "print(df_normalized.std(axis = 0).round(2))"
      ],
      "execution_count": 70,
      "outputs": [
        {
          "output_type": "stream",
          "text": [
            "[-0.  0.  0. -0.  0.]\n",
            "[1. 1. 1. 1. 1.]\n"
          ],
          "name": "stdout"
        }
      ]
    },
    {
      "cell_type": "markdown",
      "metadata": {
        "id": "iO3C1Dv2kmND"
      },
      "source": [
        "Before we perform our clustering, we have to make sure that our data set are working with has clustering tendency and does not contain unformly distributed points is very important. If the data does not contain clustering tendency, then clusters identified by any state of the art clustering algorithms may be irrelevant. Non-uniform distribution of points in data set becomes important in clustering. \n",
        "\n",
        "We can solve this by the Hopkins test, a statistical test for spatial randomness of a variable can be used to measure the probability of data points generated by uniform data distribution. \n",
        "\n",
        "The Hopkins Test is unfortunatly out of my knowledge and because this task is timelimited, I've not focused on understanding and implementing how to use the test."
      ]
    },
    {
      "cell_type": "code",
      "metadata": {
        "id": "jpkOGqTzTaOL",
        "outputId": "9b6f1f33-a0b1-4b3d-e12e-30d13ff81171",
        "colab": {
          "base_uri": "https://localhost:8080/",
          "height": 295
        }
      },
      "source": [
        "from sklearn.cluster import KMeans\n",
        "\n",
        "sse = {} #sum of squared error\n",
        "for k in range(1, 11):\n",
        "    kmeans = KMeans(n_clusters=k, random_state=42)\n",
        "    kmeans.fit(df_normalized)\n",
        "    sse[k] = kmeans.inertia_ # SSE to closest cluster centroid\n",
        "\n",
        "plt.title('The Elbow Method')\n",
        "plt.xlabel('k')\n",
        "plt.ylabel('SSE')\n",
        "sns.pointplot(x=list(sse.keys()), y=list(sse.values()))\n",
        "plt.show()"
      ],
      "execution_count": 71,
      "outputs": [
        {
          "output_type": "display_data",
          "data": {
            "image/png": "[encoded data removed]",
            "text/plain": [
              "<Figure size 432x288 with 1 Axes>"
            ]
          },
          "metadata": {
            "tags": [],
            "needs_background": "light"
          }
        }
      ]
    },
    {
      "cell_type": "markdown",
      "metadata": {
        "id": "mA6rIpfSmd_2"
      },
      "source": [
        "Getting the optimal number of clusters is very significant in the analysis. If k is too high, each point will broadly start representing a cluster and if k is to low, then data points are incorrectly clustered. Finding the optimal number of clusters lead to granularity in clustering. \n",
        "\n",
        "There is no definitive answer for finding right number of cluster as it depends upon: \n",
        "\n",
        "* Domain Knowledge - might give some prior knowledge on finding number of clusters. \n",
        "\n",
        "* Data driven approach - if the domain knowledge is not available, mathematical methods help in finding out right number of clusters. \n",
        "\n",
        "We have used the elbow method. The intuition behind the elbow curve is that the explained variation changes raipidly until the number of groups you have in the data then it slows down leading to and elbow formation. We want to find a linear trend. Based on the visaluzation, our number of cluster is 4, because that is where the point which the distortion start decreasing in a linear fashion in my opinion. "
      ]
    },
    {
      "cell_type": "code",
      "metadata": {
        "id": "AAORQXZE6PSB",
        "outputId": "bfad4407-2cce-4b02-fbdc-2299dc15735a",
        "colab": {
          "base_uri": "https://localhost:8080/",
          "height": 34
        }
      },
      "source": [
        "model = KMeans(n_clusters=5, random_state=42)\n",
        "model.fit(df_normalized)\n",
        "model.labels_.shape"
      ],
      "execution_count": 72,
      "outputs": [
        {
          "output_type": "execute_result",
          "data": {
            "text/plain": [
              "(97964,)"
            ]
          },
          "metadata": {
            "tags": []
          },
          "execution_count": 72
        }
      ]
    },
    {
      "cell_type": "markdown",
      "metadata": {
        "id": "ik2bclZLpv8Y"
      },
      "source": [
        "The goal by clustering data isn't just to make clusters, it's to make good clusters."
      ]
    },
    {
      "cell_type": "code",
      "metadata": {
        "id": "0G-XWL3L67KZ"
      },
      "source": [
        "df_ca['Cluster'] = model.labels_"
      ],
      "execution_count": 73,
      "outputs": []
    },
    {
      "cell_type": "code",
      "metadata": {
        "id": "c6v4aUMB7MCW",
        "outputId": "e77186ac-8331-4864-e50e-8534aaa21435",
        "colab": {
          "base_uri": "https://localhost:8080/",
          "height": 119
        }
      },
      "source": [
        "df_ca['Cluster'].value_counts()"
      ],
      "execution_count": 74,
      "outputs": [
        {
          "output_type": "execute_result",
          "data": {
            "text/plain": [
              "4    32236\n",
              "1    30635\n",
              "0    25937\n",
              "3     7382\n",
              "2     1774\n",
              "Name: Cluster, dtype: int64"
            ]
          },
          "metadata": {
            "tags": []
          },
          "execution_count": 74
        }
      ]
    },
    {
      "cell_type": "code",
      "metadata": {
        "id": "khtKPNTZFvym",
        "outputId": "89f0e25a-f759-4293-9bcf-af2b653f731e",
        "colab": {
          "base_uri": "https://localhost:8080/",
          "height": 102
        }
      },
      "source": [
        "df['Severity'].value_counts()"
      ],
      "execution_count": 75,
      "outputs": [
        {
          "output_type": "execute_result",
          "data": {
            "text/plain": [
              "2    70783\n",
              "3    27428\n",
              "4     1063\n",
              "1      726\n",
              "Name: Severity, dtype: int64"
            ]
          },
          "metadata": {
            "tags": []
          },
          "execution_count": 75
        }
      ]
    },
    {
      "cell_type": "code",
      "metadata": {
        "id": "-1MT_88VZnj_",
        "outputId": "28161c98-9134-4731-f3c6-08d766e4876e",
        "colab": {
          "base_uri": "https://localhost:8080/",
          "height": 34
        }
      },
      "source": [
        "km_predict = model.predict(df_normalized)\n",
        "km_predict"
      ],
      "execution_count": 76,
      "outputs": [
        {
          "output_type": "execute_result",
          "data": {
            "text/plain": [
              "array([0, 1, 0, ..., 1, 0, 0], dtype=int32)"
            ]
          },
          "metadata": {
            "tags": []
          },
          "execution_count": 76
        }
      ]
    },
    {
      "cell_type": "markdown",
      "metadata": {
        "id": "xjWErMZWjsEH"
      },
      "source": [
        "Now when the clustering is done, how well the clustering has performed can be quantified by a number of metrics. There are majorly two types of measures to access the clusterings performance. \n",
        "\n",
        "* Extrinsic Measures - which require ground truth labels. Examples are Adjusted Rand index, Fowlkes-Mallows score, Mutual information based scores, Homogeneity, Completeness and V-measure. \n",
        "\n",
        "* Intrinsic Measures - that does not require ground truth labels. Some of the clustering performance measures are silhouette coefficient, calinski-harabasz index and Davies-Bouldin Index etc. "
      ]
    },
    {
      "cell_type": "markdown",
      "metadata": {
        "id": "0n2BUzZU6SHA"
      },
      "source": [
        "### Second clustering technique \n",
        "\n",
        "# MeanShift"
      ]
    },
    {
      "cell_type": "code",
      "metadata": {
        "id": "32vXRwiujQvL"
      },
      "source": [
        "from sklearn.cluster import MeanShift"
      ],
      "execution_count": 77,
      "outputs": []
    },
    {
      "cell_type": "code",
      "metadata": {
        "id": "jSuQYJvbuXcF"
      },
      "source": [
        "#Exclude the column (Cluster) that we previously assigned to the DataFrame.\n",
        "df_meanshift = df_ca.iloc[:,:-1]"
      ],
      "execution_count": 78,
      "outputs": []
    },
    {
      "cell_type": "code",
      "metadata": {
        "id": "ZIqkfEP73aaO"
      },
      "source": [
        "#Copy the dataframe, to prevent warning indication. \n",
        "df_fix_meanshift = df_fix.copy()\n",
        "df_meanshift_normalized = df_normalized.copy()\n"
      ],
      "execution_count": 79,
      "outputs": []
    },
    {
      "cell_type": "code",
      "metadata": {
        "id": "QyaC-ufX7FCO",
        "outputId": "fedc8f8c-087f-4b79-b67f-c70166d4092f",
        "colab": {
          "base_uri": "https://localhost:8080/",
          "height": 51
        }
      },
      "source": [
        "#Create a meanshift object. \n",
        "ms = MeanShift() \n",
        "\n",
        "#Fit the first 1 000 rows to the model.\n",
        "ms.fit(df_meanshift_normalized[:1000])"
      ],
      "execution_count": 80,
      "outputs": [
        {
          "output_type": "execute_result",
          "data": {
            "text/plain": [
              "MeanShift(bandwidth=None, bin_seeding=False, cluster_all=True, max_iter=300,\n",
              "          min_bin_freq=1, n_jobs=None, seeds=None)"
            ]
          },
          "metadata": {
            "tags": []
          },
          "execution_count": 80
        }
      ]
    },
    {
      "cell_type": "code",
      "metadata": {
        "id": "tFru-2Xh2aWX",
        "outputId": "709763be-13df-4618-af06-aea99ff6648f",
        "colab": {
          "base_uri": "https://localhost:8080/",
          "height": 34
        }
      },
      "source": [
        "#Explore the shape.\n",
        "ms.labels_.shape"
      ],
      "execution_count": 81,
      "outputs": [
        {
          "output_type": "execute_result",
          "data": {
            "text/plain": [
              "(1000,)"
            ]
          },
          "metadata": {
            "tags": []
          },
          "execution_count": 81
        }
      ]
    },
    {
      "cell_type": "markdown",
      "metadata": {
        "id": "L3it1nxVKVot"
      },
      "source": [
        "## Utvärdering\n",
        "\n",
        "Jämför minst två modeller för varje av dina två frågor och fyra olika modeller totalt. För full poäng ska dessutom flera mått på kvalitet användas. (20 poäng)"
      ]
    },
    {
      "cell_type": "code",
      "metadata": {
        "id": "85vmHJnXKVow"
      },
      "source": [
        "#kod för att jämföra"
      ],
      "execution_count": 82,
      "outputs": []
    },
    {
      "cell_type": "markdown",
      "metadata": {
        "id": "a4N9H-J2p_H0"
      },
      "source": [
        "The two methods we will use to measure the cluster quality is: \n",
        "\n",
        "* Inhertia - Intuitvely, inertia tells how far away the points within a cluster are. Therefore, a small inertia is aimed for. The range of inertia's value starts from zero and goes up. \n",
        "\n",
        "* Silhouette score - tells how far away the datapoints in one cluster are, from the datapoints in another cluster. The range of silhouette score is from -1 to 1. Score should be closer to 1 than -1. "
      ]
    },
    {
      "cell_type": "markdown",
      "metadata": {
        "id": "2ncpDpHhZNBI"
      },
      "source": [
        "The best value is 1 and the worst is -1. Values near 0 indicate overlapping clusters. Negative values generally indicate that a sample has been assigned to the wrong cluster, as a different cluster is more similar. "
      ]
    },
    {
      "cell_type": "code",
      "metadata": {
        "id": "9ZQRsFbU7iqh"
      },
      "source": [
        "from sklearn.metrics import silhouette_samples, silhouette_score"
      ],
      "execution_count": 83,
      "outputs": []
    },
    {
      "cell_type": "code",
      "metadata": {
        "id": "Pcn9iDmMX0tc",
        "outputId": "94beec7b-bff0-48a5-c914-58f00bbce155",
        "colab": {
          "base_uri": "https://localhost:8080/",
          "height": 34
        }
      },
      "source": [
        "silhouette_score(df_normalized, kmeans.labels_)"
      ],
      "execution_count": 84,
      "outputs": [
        {
          "output_type": "execute_result",
          "data": {
            "text/plain": [
              "0.26704208030697435"
            ]
          },
          "metadata": {
            "tags": []
          },
          "execution_count": 84
        }
      ]
    },
    {
      "cell_type": "code",
      "metadata": {
        "id": "IwdMX76NWqBa",
        "outputId": "da872f7f-ffa4-42e0-95bc-8ceb04c31cb3",
        "colab": {
          "base_uri": "https://localhost:8080/",
          "height": 34
        }
      },
      "source": [
        "model.inertia_ "
      ],
      "execution_count": 85,
      "outputs": [
        {
          "output_type": "execute_result",
          "data": {
            "text/plain": [
              "220776.51061479136"
            ]
          },
          "metadata": {
            "tags": []
          },
          "execution_count": 85
        }
      ]
    },
    {
      "cell_type": "code",
      "metadata": {
        "id": "y88XeQKS2uyS"
      },
      "source": [
        "from sklearn.metrics import adjusted_rand_score"
      ],
      "execution_count": 86,
      "outputs": []
    },
    {
      "cell_type": "code",
      "metadata": {
        "id": "9dyestPg28IV",
        "outputId": "370c89d6-cb15-4286-8c04-173a9c422db4",
        "colab": {
          "base_uri": "https://localhost:8080/",
          "height": 34
        }
      },
      "source": [
        "print(adjusted_rand_score(km_predict, kmeans.labels_))"
      ],
      "execution_count": 87,
      "outputs": [
        {
          "output_type": "stream",
          "text": [
            "0.3781563165003386\n"
          ],
          "name": "stdout"
        }
      ]
    },
    {
      "cell_type": "markdown",
      "metadata": {
        "id": "6GhlpxpNRPMw"
      },
      "source": [
        "Advantage with Adjusted Rand Index \n",
        "\n",
        "Given the knowledge of the ground truth class assigments labels_true and our clustering algorithm assigments of the sam"
      ]
    },
    {
      "cell_type": "code",
      "metadata": {
        "id": "BPMiHqA4kpLu"
      },
      "source": [
        "#Test with random forest on the cluster! "
      ],
      "execution_count": 88,
      "outputs": []
    },
    {
      "cell_type": "code",
      "metadata": {
        "id": "z6amX055ktXu",
        "outputId": "f70eabf2-b2c2-40eb-b8e6-f1bb632e9b3e",
        "colab": {
          "base_uri": "https://localhost:8080/",
          "height": 197
        }
      },
      "source": [
        "X, y = df_ca_copy.iloc[:,:-1] , df_ca_copy.iloc[:,-1]\n",
        "\n",
        "clf = RandomForestClassifier(n_estimators=100).fit(X, y)"
      ],
      "execution_count": 89,
      "outputs": [
        {
          "output_type": "error",
          "ename": "NameError",
          "evalue": "ignored",
          "traceback": [
            "\u001b[0;31m---------------------------------------------------------------------------\u001b[0m",
            "\u001b[0;31mNameError\u001b[0m                                 Traceback (most recent call last)",
            "\u001b[0;32m<ipython-input-89-36d1d64c9acb>\u001b[0m in \u001b[0;36m<module>\u001b[0;34m()\u001b[0m\n\u001b[0;32m----> 1\u001b[0;31m \u001b[0mX\u001b[0m\u001b[0;34m,\u001b[0m \u001b[0my\u001b[0m \u001b[0;34m=\u001b[0m \u001b[0mdf_ca_copy\u001b[0m\u001b[0;34m.\u001b[0m\u001b[0miloc\u001b[0m\u001b[0;34m[\u001b[0m\u001b[0;34m:\u001b[0m\u001b[0;34m,\u001b[0m\u001b[0;34m:\u001b[0m\u001b[0;34m-\u001b[0m\u001b[0;36m1\u001b[0m\u001b[0;34m]\u001b[0m \u001b[0;34m,\u001b[0m \u001b[0mdf_ca_copy\u001b[0m\u001b[0;34m.\u001b[0m\u001b[0miloc\u001b[0m\u001b[0;34m[\u001b[0m\u001b[0;34m:\u001b[0m\u001b[0;34m,\u001b[0m\u001b[0;34m-\u001b[0m\u001b[0;36m1\u001b[0m\u001b[0;34m]\u001b[0m\u001b[0;34m\u001b[0m\u001b[0;34m\u001b[0m\u001b[0m\n\u001b[0m\u001b[1;32m      2\u001b[0m \u001b[0;34m\u001b[0m\u001b[0m\n\u001b[1;32m      3\u001b[0m \u001b[0mclf\u001b[0m \u001b[0;34m=\u001b[0m \u001b[0mRandomForestClassifier\u001b[0m\u001b[0;34m(\u001b[0m\u001b[0mn_estimators\u001b[0m\u001b[0;34m=\u001b[0m\u001b[0;36m100\u001b[0m\u001b[0;34m)\u001b[0m\u001b[0;34m.\u001b[0m\u001b[0mfit\u001b[0m\u001b[0;34m(\u001b[0m\u001b[0mX\u001b[0m\u001b[0;34m,\u001b[0m \u001b[0my\u001b[0m\u001b[0;34m)\u001b[0m\u001b[0;34m\u001b[0m\u001b[0;34m\u001b[0m\u001b[0m\n",
            "\u001b[0;31mNameError\u001b[0m: name 'df_ca_copy' is not defined"
          ]
        }
      ]
    },
    {
      "cell_type": "markdown",
      "metadata": {
        "id": "7j1fQeoWnadL"
      },
      "source": [
        "# Conclusion"
      ]
    },
    {
      "cell_type": "markdown",
      "metadata": {
        "id": "jKsJmMDUndrO"
      },
      "source": [
        "After I've computed clustering on this data set. "
      ]
    },
    {
      "cell_type": "markdown",
      "metadata": {
        "id": "3UESpkktnnWa"
      },
      "source": [
        "In our data set we all ready have an exisiting class ``Severity``, it is often better to use the existing class if your data set contains one than trying to create one. Clustering only  makes sense if the way the data is unable to organize or doesn't contain any classes. "
      ]
    },
    {
      "cell_type": "markdown",
      "metadata": {
        "id": "JDRbPcPsoDLP"
      },
      "source": [
        "The second reason why this data s"
      ]
    },
    {
      "cell_type": "code",
      "metadata": {
        "id": "04zIoXcK2D6S"
      },
      "source": [
        ""
      ],
      "execution_count": null,
      "outputs": []
    },
    {
      "cell_type": "markdown",
      "metadata": {
        "id": "i1eupHc5oFe-"
      },
      "source": [
        "Many clustering algorithms, K-Means for example use a distance measurement to calculate the similarity between the observations. Because of this, certain clustering algorithms will perform better with continous attributes. Howevere, if you have categorical data, you can one-hot encode the attributes or using clustering algorithms built for categorical data, such K-Modes. It should be noted that it does not make a lot of sense to calculate distance between binary vairables. \n",
        "\n",
        "Our dataset contain categorical values initialy, but are the data pre processing we deleted those column because we only wanted to perforom our analysis on the weather data. "
      ]
    },
    {
      "cell_type": "markdown",
      "metadata": {
        "id": "VE6BWIaUolol"
      },
      "source": [
        "# What does my data look like? "
      ]
    },
    {
      "cell_type": "markdown",
      "metadata": {
        "id": "oV7C_VAWooG8"
      },
      "source": [
        "If we visualise the data, it looks like the following. "
      ]
    },
    {
      "cell_type": "code",
      "metadata": {
        "id": "83SxuTsIos8-"
      },
      "source": [
        "plt.scatter(x=df_ca['Temperature(F)'][:10000], y=df_ca['Humidity(%)'][:10000])"
      ],
      "execution_count": null,
      "outputs": []
    },
    {
      "cell_type": "code",
      "metadata": {
        "id": "dlS84VAqrgzR"
      },
      "source": [
        "plt.scatter(x=df_ca['Pressure(in)'][:10000], y=df_ca['Visibility(mi)'][:10000])"
      ],
      "execution_count": null,
      "outputs": []
    },
    {
      "cell_type": "markdown",
      "metadata": {
        "id": "bDYDWS_7qxj0"
      },
      "source": [
        "After we have run several clustering algorithms on our data, no distinct or meningful groups were formed and it was determind that these attributes were not well suited for clustering. However, by simply visulizing our data early in the analysis. \n",
        "\n",
        "When we visulize the data set it reveals that our data set has no amount of separation or dinstinct group, which means for this case that clustering may not be appropriate. "
      ]
    }
  ]
}